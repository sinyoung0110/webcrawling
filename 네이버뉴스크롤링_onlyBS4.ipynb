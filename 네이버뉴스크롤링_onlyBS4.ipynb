{
  "nbformat": 4,
  "nbformat_minor": 0,
  "metadata": {
    "colab": {
      "provenance": [],
      "authorship_tag": "ABX9TyObCh+ZGyk5S30Pf4UeEMAv",
      "include_colab_link": true
    },
    "kernelspec": {
      "name": "python3",
      "display_name": "Python 3"
    },
    "language_info": {
      "name": "python"
    }
  },
  "cells": [
    {
      "cell_type": "markdown",
      "metadata": {
        "id": "view-in-github",
        "colab_type": "text"
      },
      "source": [
        "<a href=\"https://colab.research.google.com/github/sinyoung0110/webcrawling/blob/main/%EB%84%A4%EC%9D%B4%EB%B2%84%EB%89%B4%EC%8A%A4%ED%81%AC%EB%A1%A4%EB%A7%81_onlyBS4.ipynb\" target=\"_parent\"><img src=\"https://colab.research.google.com/assets/colab-badge.svg\" alt=\"Open In Colab\"/></a>"
      ]
    },
    {
      "cell_type": "code",
      "execution_count": 73,
      "metadata": {
        "id": "BIgEeB3Up-13"
      },
      "outputs": [],
      "source": [
        "import requests\n",
        "from bs4 import BeautifulSoup\n",
        "import pandas as pd\n",
        "import matplotlib.pyplot as plt\n",
        "from io import StringIO\n",
        "import datetime\n",
        "import numpy as np"
      ]
    },
    {
      "cell_type": "code",
      "source": [
        "# 수집하고 싶은 주식 종목 코드, 조회기간, csv 저장 여부를 입력받음\n",
        "keyword=input(\"키워드를 입력하세요 (예: 우크라이나, 인공지능): \")\n",
        "save_csv=input(\"csv 파일로 저장하시겠습니까? (예: yes): \").lower()=='y'"
      ],
      "metadata": {
        "colab": {
          "base_uri": "https://localhost:8080/"
        },
        "id": "xCFzGaxgqBWH",
        "outputId": "bf0952f7-2e87-4cd6-8117-a227bd759138"
      },
      "execution_count": 74,
      "outputs": [
        {
          "name": "stdout",
          "output_type": "stream",
          "text": [
            "키워드를 입력하세요 (예: 우크라이나, 인공지능): cat\n",
            "csv 파일로 저장하시겠습니까? (예: yes): ai\n"
          ]
        }
      ]
    },
    {
      "cell_type": "code",
      "source": [
        "naver_url=f\"https://search.naver.com/search.naver?ssc=tab.news.all&where=news&sm=tab_jum&query={keyword}\"\n",
        "\n",
        "headers={\n",
        "    \"User-Agent\":\"Mozilla/5.0 (Windows NT 10.0; Win64; x64) AppleWebKit/537.36 (KHTML, like Gecko) Chrome/120.0.0.0 Safari/537.36 \",\n",
        "    \"Accept-Language\":\"en-US,en;q=0.9\",\n",
        "    \"Accept\":\"text/html,application/xhtml+xml,application/xml;q=0.9,image/webp,*/*;q=0.8\",\n",
        "    \"Referer\":\"https://www.naver.com/\"\n",
        "}\n",
        "response=requests.get(naver_url,headers=headers)\n",
        "html=response.text\n",
        "soup=BeautifulSoup(response.text,'html.parser')"
      ],
      "metadata": {
        "id": "-YpHQfR8qY4N"
      },
      "execution_count": 75,
      "outputs": []
    },
    {
      "cell_type": "code",
      "source": [
        "soup.select_one(\".news_tit\").text"
      ],
      "metadata": {
        "colab": {
          "base_uri": "https://localhost:8080/",
          "height": 35
        },
        "id": "Qv-pUP0Uruu4",
        "outputId": "50e82c3b-f389-4dd8-8364-a871674e919d"
      },
      "execution_count": 76,
      "outputs": [
        {
          "output_type": "execute_result",
          "data": {
            "text/plain": [
              "'\"가덕신공항 연내 착공할 것…2029년 개항 변함없어\"'"
            ],
            "application/vnd.google.colaboratory.intrinsic+json": {
              "type": "string"
            }
          },
          "metadata": {},
          "execution_count": 76
        }
      ]
    },
    {
      "cell_type": "code",
      "source": [
        "#상세 페이지 가는 부분\n",
        "link=soup.select_one(\".news_tit\").attrs['href']\n",
        "link"
      ],
      "metadata": {
        "colab": {
          "base_uri": "https://localhost:8080/",
          "height": 35
        },
        "id": "OzPAc1Hps-MY",
        "outputId": "745475da-73a6-4fe0-f7da-20125f33f8f5"
      },
      "execution_count": 77,
      "outputs": [
        {
          "output_type": "execute_result",
          "data": {
            "text/plain": [
              "'https://www.imaeil.com/page/view/2025033112363657777'"
            ],
            "application/vnd.google.colaboratory.intrinsic+json": {
              "type": "string"
            }
          },
          "metadata": {},
          "execution_count": 77
        }
      ]
    },
    {
      "cell_type": "markdown",
      "source": [],
      "metadata": {
        "id": "9bGhMaOfwYNu"
      }
    },
    {
      "cell_type": "code",
      "source": [
        "soup.select_one(\".info.press\").text.replace(\"언론사 선정\",\"\")"
      ],
      "metadata": {
        "colab": {
          "base_uri": "https://localhost:8080/",
          "height": 35
        },
        "id": "yxT5Vh1-toMd",
        "outputId": "a578d7b9-a3f2-4877-dea6-a05690388992"
      },
      "execution_count": 78,
      "outputs": [
        {
          "output_type": "execute_result",
          "data": {
            "text/plain": [
              "'매일신문'"
            ],
            "application/vnd.google.colaboratory.intrinsic+json": {
              "type": "string"
            }
          },
          "metadata": {},
          "execution_count": 78
        }
      ]
    },
    {
      "cell_type": "code",
      "source": [
        "articles=soup.select(\"#sp_nws1\")\n",
        "for article in articles:\n",
        "    title=article.select_one(\".news_tit\").text\n",
        "    link=article.select_one(\".news_tit\").attrs['href']\n",
        "    press=article.select_one(\".info.press\").text.replace(\"언론사 선정\",\"\").strip()\n",
        "\n",
        "        # 페이지 요청\n",
        "    response = requests.get(link)\n",
        "    soup = BeautifulSoup(response.text, 'html.parser')\n",
        "\n",
        "    # 날짜를 포함하는 요소 찾기\n",
        "    date_element = soup.select_one(\".date\")\n",
        "\n",
        "    # 날짜 정보가 있는지 확인\n",
        "    if date_element:\n",
        "        # 텍스트 추출 후, '입력'과 앞뒤 공백을 제거\n",
        "        date_text = date_element.text.strip()\n",
        "        # '입력'을 제외한 날짜만 추출\n",
        "        date = date_text.replace(\"입력\", \"\").strip().split()[0]\n",
        "    else:\n",
        "        print(\"날짜 정보가 없습니다.\")\n",
        "\n",
        "\n",
        "    print(title,link,press,date)"
      ],
      "metadata": {
        "id": "UdLwiuB1uv2F"
      },
      "execution_count": 79,
      "outputs": []
    },
    {
      "cell_type": "code",
      "source": [
        "import requests\n",
        "from bs4 import BeautifulSoup\n",
        "import pandas as pd\n",
        "import matplotlib.pyplot as plt\n",
        "from io import StringIO\n",
        "import datetime\n",
        "import numpy as np\n",
        "# 수집하고 싶은 주식 종목 코드, 조회기간, csv 저장 여부를 입력받음\n",
        "keyword=input(\"키워드를 입력하세요 (예: 우크라이나, 인공지능): \")\n",
        "data=[]\n",
        "for i in range(1,20):\n",
        "  naver_url=f\"https://search.naver.com/search.naver?ssc=tab.news.all&where=news&sm=tab_jum&query={keyword}\"\n",
        "\n",
        "  headers={\n",
        "      \"User-Agent\":\"Mozilla/5.0 (Windows NT 10.0; Win64; x64) AppleWebKit/537.36 (KHTML, like Gecko) Chrome/120.0.0.0 Safari/537.36 \",\n",
        "      \"Accept-Language\":\"en-US,en;q=0.9\",\n",
        "      \"Accept\":\"text/html,application/xhtml+xml,application/xml;q=0.9,image/webp,*/*;q=0.8\",\n",
        "      \"Referer\":\"https://www.naver.com/\"\n",
        "  }\n",
        "  response=requests.get(naver_url,headers=headers)\n",
        "  html=response.text\n",
        "  soup=BeautifulSoup(response.text,'html.parser')\n",
        "\n",
        "  articles = soup.select(f\"#sp_nws{i}\")\n",
        "  for article in articles:\n",
        "      title=article.select_one(\".news_tit\").text\n",
        "      link=article.select_one(\".news_tit\").attrs['href']\n",
        "      press=article.select_one(\".info.press\").text.replace(\"언론사 선정\",\"\").strip()\n",
        "\n",
        "          # 페이지 요청\n",
        "      response = requests.get(link)\n",
        "      soup = BeautifulSoup(response.text, 'html.parser')\n",
        "\n",
        "      # 날짜를 포함하는 요소 찾기\n",
        "      date_element = soup.select_one(\".date\")\n",
        "\n",
        "      # 날짜 정보가 있는지 확인\n",
        "      if date_element:\n",
        "          # 텍스트 추출 후, '입력'과 앞뒤 공백을 제거\n",
        "          date_text = date_element.text.strip()\n",
        "          # '입력'을 제외한 날짜만 추출\n",
        "          date = date_text.replace(\"입력\", \"\").strip().split()[0]\n",
        "      else:\n",
        "          print(\"날짜 정보가 없습니다.\")\n",
        "\n",
        "\n",
        "      print(title,link,press,date)\n",
        "      data.append([title,link,press,date])"
      ],
      "metadata": {
        "colab": {
          "base_uri": "https://localhost:8080/"
        },
        "id": "AgXhft2SikLK",
        "outputId": "a3cfb50b-9bf8-4922-c377-1a1bdf73d24f"
      },
      "execution_count": 82,
      "outputs": [
        {
          "output_type": "stream",
          "name": "stdout",
          "text": [
            "키워드를 입력하세요 (예: 우크라이나, 인공지능): cat\n",
            "csv 파일로 저장하시겠습니까? (예: yes): yes\n",
            "\"가덕신공항 연내 착공할 것…2029년 개항 변함없어\" https://www.imaeil.com/page/view/2025033112363657777 매일신문 2025-03-31\n",
            "날짜 정보가 없습니다.\n",
            "Cat Sanctuary-Fire https://n.news.naver.com/mnews/article/077/0006573038?sid=104 AP연합뉴스 2025-03-31\n",
            "날짜 정보가 없습니다.\n",
            "게임 개발 고연전, 4대1로 연대 압승 http://www.newstomato.com/ReadNews.aspx?no=1258261&inflow=N 뉴스토마토 2025-03-31\n",
            "날짜 정보가 없습니다.\n",
            "네오위즈 '고연전 게임데브2025' 개최 https://www.globale.co.kr/news/articleView.html?idxno=32615 글로벌E 2025-03-31\n",
            "날짜 정보가 없습니다.\n",
            "암 환자 정맥혈전색전증 예방 위해 '저용량' 엘리퀴스 지속해야 https://www.monews.co.kr/news/articleView.html?idxno=403241 메디칼업저버 2025-03-31\n",
            "날짜 정보가 없습니다.\n",
            "[AGI 시대 ①] 룰을 넘어선 '학습'의 등장 http://www.itdaily.kr/news/articleView.html?idxno=231845 아이티데일리 2025-03-31\n",
            "날짜 정보가 없습니다.\n",
            "넵튠-트리플라, 신작 타이쿤 게임 ‘고양이 마법학교’글로벌 론칭 https://zdnet.co.kr/view/?no=20250328165049 지디넷코리아 2025-03-31\n",
            "날짜 정보가 없습니다.\n",
            "코리안리, 기후위기 대응 ESG전략 본격화…\"리스크 선제대응\" https://view.asiae.co.kr/article/2025032708430453397 아시아경제 2025-03-31\n",
            "날짜 정보가 없습니다.\n",
            "Angry Cat https://www.nytimes.com/2025/03/20/learning/angry-cat.html?partner=naver The New York Times 2025-03-31\n",
            "날짜 정보가 없습니다.\n",
            "Bird Flu Just Jumped To A Wild Leopard Cat For The First Time http://www.newspenguin.com/news/articleView.html?idxno=19101 뉴스펭귄 2025-03-31\n"
          ]
        }
      ]
    },
    {
      "cell_type": "code",
      "source": [
        "df=pd.DataFrame(data,columns=['title','link','press','date'])\n",
        "df.head()"
      ],
      "metadata": {
        "id": "ytHJgD5Yvlp0",
        "colab": {
          "base_uri": "https://localhost:8080/",
          "height": 293
        },
        "outputId": "61e2bc06-5c36-4946-f871-1cc5b06df62d"
      },
      "execution_count": 83,
      "outputs": [
        {
          "output_type": "execute_result",
          "data": {
            "text/plain": [
              "                                title  \\\n",
              "0      \"가덕신공항 연내 착공할 것…2029년 개항 변함없어\"   \n",
              "1                  Cat Sanctuary-Fire   \n",
              "2               게임 개발 고연전, 4대1로 연대 압승   \n",
              "3              네오위즈 '고연전 게임데브2025' 개최   \n",
              "4  암 환자 정맥혈전색전증 예방 위해 '저용량' 엘리퀴스 지속해야   \n",
              "\n",
              "                                                link   press        date  \n",
              "0  https://www.imaeil.com/page/view/2025033112363...    매일신문  2025-03-31  \n",
              "1  https://n.news.naver.com/mnews/article/077/000...  AP연합뉴스  2025-03-31  \n",
              "2  http://www.newstomato.com/ReadNews.aspx?no=125...   뉴스토마토  2025-03-31  \n",
              "3  https://www.globale.co.kr/news/articleView.htm...    글로벌E  2025-03-31  \n",
              "4  https://www.monews.co.kr/news/articleView.html...  메디칼업저버  2025-03-31  "
            ],
            "text/html": [
              "\n",
              "  <div id=\"df-98e17721-e9a9-4949-baca-99e8f0f462dc\" class=\"colab-df-container\">\n",
              "    <div>\n",
              "<style scoped>\n",
              "    .dataframe tbody tr th:only-of-type {\n",
              "        vertical-align: middle;\n",
              "    }\n",
              "\n",
              "    .dataframe tbody tr th {\n",
              "        vertical-align: top;\n",
              "    }\n",
              "\n",
              "    .dataframe thead th {\n",
              "        text-align: right;\n",
              "    }\n",
              "</style>\n",
              "<table border=\"1\" class=\"dataframe\">\n",
              "  <thead>\n",
              "    <tr style=\"text-align: right;\">\n",
              "      <th></th>\n",
              "      <th>title</th>\n",
              "      <th>link</th>\n",
              "      <th>press</th>\n",
              "      <th>date</th>\n",
              "    </tr>\n",
              "  </thead>\n",
              "  <tbody>\n",
              "    <tr>\n",
              "      <th>0</th>\n",
              "      <td>\"가덕신공항 연내 착공할 것…2029년 개항 변함없어\"</td>\n",
              "      <td>https://www.imaeil.com/page/view/2025033112363...</td>\n",
              "      <td>매일신문</td>\n",
              "      <td>2025-03-31</td>\n",
              "    </tr>\n",
              "    <tr>\n",
              "      <th>1</th>\n",
              "      <td>Cat Sanctuary-Fire</td>\n",
              "      <td>https://n.news.naver.com/mnews/article/077/000...</td>\n",
              "      <td>AP연합뉴스</td>\n",
              "      <td>2025-03-31</td>\n",
              "    </tr>\n",
              "    <tr>\n",
              "      <th>2</th>\n",
              "      <td>게임 개발 고연전, 4대1로 연대 압승</td>\n",
              "      <td>http://www.newstomato.com/ReadNews.aspx?no=125...</td>\n",
              "      <td>뉴스토마토</td>\n",
              "      <td>2025-03-31</td>\n",
              "    </tr>\n",
              "    <tr>\n",
              "      <th>3</th>\n",
              "      <td>네오위즈 '고연전 게임데브2025' 개최</td>\n",
              "      <td>https://www.globale.co.kr/news/articleView.htm...</td>\n",
              "      <td>글로벌E</td>\n",
              "      <td>2025-03-31</td>\n",
              "    </tr>\n",
              "    <tr>\n",
              "      <th>4</th>\n",
              "      <td>암 환자 정맥혈전색전증 예방 위해 '저용량' 엘리퀴스 지속해야</td>\n",
              "      <td>https://www.monews.co.kr/news/articleView.html...</td>\n",
              "      <td>메디칼업저버</td>\n",
              "      <td>2025-03-31</td>\n",
              "    </tr>\n",
              "  </tbody>\n",
              "</table>\n",
              "</div>\n",
              "    <div class=\"colab-df-buttons\">\n",
              "\n",
              "  <div class=\"colab-df-container\">\n",
              "    <button class=\"colab-df-convert\" onclick=\"convertToInteractive('df-98e17721-e9a9-4949-baca-99e8f0f462dc')\"\n",
              "            title=\"Convert this dataframe to an interactive table.\"\n",
              "            style=\"display:none;\">\n",
              "\n",
              "  <svg xmlns=\"http://www.w3.org/2000/svg\" height=\"24px\" viewBox=\"0 -960 960 960\">\n",
              "    <path d=\"M120-120v-720h720v720H120Zm60-500h600v-160H180v160Zm220 220h160v-160H400v160Zm0 220h160v-160H400v160ZM180-400h160v-160H180v160Zm440 0h160v-160H620v160ZM180-180h160v-160H180v160Zm440 0h160v-160H620v160Z\"/>\n",
              "  </svg>\n",
              "    </button>\n",
              "\n",
              "  <style>\n",
              "    .colab-df-container {\n",
              "      display:flex;\n",
              "      gap: 12px;\n",
              "    }\n",
              "\n",
              "    .colab-df-convert {\n",
              "      background-color: #E8F0FE;\n",
              "      border: none;\n",
              "      border-radius: 50%;\n",
              "      cursor: pointer;\n",
              "      display: none;\n",
              "      fill: #1967D2;\n",
              "      height: 32px;\n",
              "      padding: 0 0 0 0;\n",
              "      width: 32px;\n",
              "    }\n",
              "\n",
              "    .colab-df-convert:hover {\n",
              "      background-color: #E2EBFA;\n",
              "      box-shadow: 0px 1px 2px rgba(60, 64, 67, 0.3), 0px 1px 3px 1px rgba(60, 64, 67, 0.15);\n",
              "      fill: #174EA6;\n",
              "    }\n",
              "\n",
              "    .colab-df-buttons div {\n",
              "      margin-bottom: 4px;\n",
              "    }\n",
              "\n",
              "    [theme=dark] .colab-df-convert {\n",
              "      background-color: #3B4455;\n",
              "      fill: #D2E3FC;\n",
              "    }\n",
              "\n",
              "    [theme=dark] .colab-df-convert:hover {\n",
              "      background-color: #434B5C;\n",
              "      box-shadow: 0px 1px 3px 1px rgba(0, 0, 0, 0.15);\n",
              "      filter: drop-shadow(0px 1px 2px rgba(0, 0, 0, 0.3));\n",
              "      fill: #FFFFFF;\n",
              "    }\n",
              "  </style>\n",
              "\n",
              "    <script>\n",
              "      const buttonEl =\n",
              "        document.querySelector('#df-98e17721-e9a9-4949-baca-99e8f0f462dc button.colab-df-convert');\n",
              "      buttonEl.style.display =\n",
              "        google.colab.kernel.accessAllowed ? 'block' : 'none';\n",
              "\n",
              "      async function convertToInteractive(key) {\n",
              "        const element = document.querySelector('#df-98e17721-e9a9-4949-baca-99e8f0f462dc');\n",
              "        const dataTable =\n",
              "          await google.colab.kernel.invokeFunction('convertToInteractive',\n",
              "                                                    [key], {});\n",
              "        if (!dataTable) return;\n",
              "\n",
              "        const docLinkHtml = 'Like what you see? Visit the ' +\n",
              "          '<a target=\"_blank\" href=https://colab.research.google.com/notebooks/data_table.ipynb>data table notebook</a>'\n",
              "          + ' to learn more about interactive tables.';\n",
              "        element.innerHTML = '';\n",
              "        dataTable['output_type'] = 'display_data';\n",
              "        await google.colab.output.renderOutput(dataTable, element);\n",
              "        const docLink = document.createElement('div');\n",
              "        docLink.innerHTML = docLinkHtml;\n",
              "        element.appendChild(docLink);\n",
              "      }\n",
              "    </script>\n",
              "  </div>\n",
              "\n",
              "\n",
              "<div id=\"df-22da2821-19e5-436c-a58f-7d758cc1e83f\">\n",
              "  <button class=\"colab-df-quickchart\" onclick=\"quickchart('df-22da2821-19e5-436c-a58f-7d758cc1e83f')\"\n",
              "            title=\"Suggest charts\"\n",
              "            style=\"display:none;\">\n",
              "\n",
              "<svg xmlns=\"http://www.w3.org/2000/svg\" height=\"24px\"viewBox=\"0 0 24 24\"\n",
              "     width=\"24px\">\n",
              "    <g>\n",
              "        <path d=\"M19 3H5c-1.1 0-2 .9-2 2v14c0 1.1.9 2 2 2h14c1.1 0 2-.9 2-2V5c0-1.1-.9-2-2-2zM9 17H7v-7h2v7zm4 0h-2V7h2v10zm4 0h-2v-4h2v4z\"/>\n",
              "    </g>\n",
              "</svg>\n",
              "  </button>\n",
              "\n",
              "<style>\n",
              "  .colab-df-quickchart {\n",
              "      --bg-color: #E8F0FE;\n",
              "      --fill-color: #1967D2;\n",
              "      --hover-bg-color: #E2EBFA;\n",
              "      --hover-fill-color: #174EA6;\n",
              "      --disabled-fill-color: #AAA;\n",
              "      --disabled-bg-color: #DDD;\n",
              "  }\n",
              "\n",
              "  [theme=dark] .colab-df-quickchart {\n",
              "      --bg-color: #3B4455;\n",
              "      --fill-color: #D2E3FC;\n",
              "      --hover-bg-color: #434B5C;\n",
              "      --hover-fill-color: #FFFFFF;\n",
              "      --disabled-bg-color: #3B4455;\n",
              "      --disabled-fill-color: #666;\n",
              "  }\n",
              "\n",
              "  .colab-df-quickchart {\n",
              "    background-color: var(--bg-color);\n",
              "    border: none;\n",
              "    border-radius: 50%;\n",
              "    cursor: pointer;\n",
              "    display: none;\n",
              "    fill: var(--fill-color);\n",
              "    height: 32px;\n",
              "    padding: 0;\n",
              "    width: 32px;\n",
              "  }\n",
              "\n",
              "  .colab-df-quickchart:hover {\n",
              "    background-color: var(--hover-bg-color);\n",
              "    box-shadow: 0 1px 2px rgba(60, 64, 67, 0.3), 0 1px 3px 1px rgba(60, 64, 67, 0.15);\n",
              "    fill: var(--button-hover-fill-color);\n",
              "  }\n",
              "\n",
              "  .colab-df-quickchart-complete:disabled,\n",
              "  .colab-df-quickchart-complete:disabled:hover {\n",
              "    background-color: var(--disabled-bg-color);\n",
              "    fill: var(--disabled-fill-color);\n",
              "    box-shadow: none;\n",
              "  }\n",
              "\n",
              "  .colab-df-spinner {\n",
              "    border: 2px solid var(--fill-color);\n",
              "    border-color: transparent;\n",
              "    border-bottom-color: var(--fill-color);\n",
              "    animation:\n",
              "      spin 1s steps(1) infinite;\n",
              "  }\n",
              "\n",
              "  @keyframes spin {\n",
              "    0% {\n",
              "      border-color: transparent;\n",
              "      border-bottom-color: var(--fill-color);\n",
              "      border-left-color: var(--fill-color);\n",
              "    }\n",
              "    20% {\n",
              "      border-color: transparent;\n",
              "      border-left-color: var(--fill-color);\n",
              "      border-top-color: var(--fill-color);\n",
              "    }\n",
              "    30% {\n",
              "      border-color: transparent;\n",
              "      border-left-color: var(--fill-color);\n",
              "      border-top-color: var(--fill-color);\n",
              "      border-right-color: var(--fill-color);\n",
              "    }\n",
              "    40% {\n",
              "      border-color: transparent;\n",
              "      border-right-color: var(--fill-color);\n",
              "      border-top-color: var(--fill-color);\n",
              "    }\n",
              "    60% {\n",
              "      border-color: transparent;\n",
              "      border-right-color: var(--fill-color);\n",
              "    }\n",
              "    80% {\n",
              "      border-color: transparent;\n",
              "      border-right-color: var(--fill-color);\n",
              "      border-bottom-color: var(--fill-color);\n",
              "    }\n",
              "    90% {\n",
              "      border-color: transparent;\n",
              "      border-bottom-color: var(--fill-color);\n",
              "    }\n",
              "  }\n",
              "</style>\n",
              "\n",
              "  <script>\n",
              "    async function quickchart(key) {\n",
              "      const quickchartButtonEl =\n",
              "        document.querySelector('#' + key + ' button');\n",
              "      quickchartButtonEl.disabled = true;  // To prevent multiple clicks.\n",
              "      quickchartButtonEl.classList.add('colab-df-spinner');\n",
              "      try {\n",
              "        const charts = await google.colab.kernel.invokeFunction(\n",
              "            'suggestCharts', [key], {});\n",
              "      } catch (error) {\n",
              "        console.error('Error during call to suggestCharts:', error);\n",
              "      }\n",
              "      quickchartButtonEl.classList.remove('colab-df-spinner');\n",
              "      quickchartButtonEl.classList.add('colab-df-quickchart-complete');\n",
              "    }\n",
              "    (() => {\n",
              "      let quickchartButtonEl =\n",
              "        document.querySelector('#df-22da2821-19e5-436c-a58f-7d758cc1e83f button');\n",
              "      quickchartButtonEl.style.display =\n",
              "        google.colab.kernel.accessAllowed ? 'block' : 'none';\n",
              "    })();\n",
              "  </script>\n",
              "</div>\n",
              "\n",
              "    </div>\n",
              "  </div>\n"
            ],
            "application/vnd.google.colaboratory.intrinsic+json": {
              "type": "dataframe",
              "variable_name": "df",
              "summary": "{\n  \"name\": \"df\",\n  \"rows\": 10,\n  \"fields\": [\n    {\n      \"column\": \"title\",\n      \"properties\": {\n        \"dtype\": \"string\",\n        \"num_unique_values\": 10,\n        \"samples\": [\n          \"Angry Cat\",\n          \"Cat Sanctuary-Fire\",\n          \"[AGI \\uc2dc\\ub300 \\u2460] \\ub8f0\\uc744 \\ub118\\uc5b4\\uc120 '\\ud559\\uc2b5'\\uc758 \\ub4f1\\uc7a5\"\n        ],\n        \"semantic_type\": \"\",\n        \"description\": \"\"\n      }\n    },\n    {\n      \"column\": \"link\",\n      \"properties\": {\n        \"dtype\": \"string\",\n        \"num_unique_values\": 10,\n        \"samples\": [\n          \"https://www.nytimes.com/2025/03/20/learning/angry-cat.html?partner=naver\",\n          \"https://n.news.naver.com/mnews/article/077/0006573038?sid=104\",\n          \"http://www.itdaily.kr/news/articleView.html?idxno=231845\"\n        ],\n        \"semantic_type\": \"\",\n        \"description\": \"\"\n      }\n    },\n    {\n      \"column\": \"press\",\n      \"properties\": {\n        \"dtype\": \"string\",\n        \"num_unique_values\": 10,\n        \"samples\": [\n          \"The New York Times\",\n          \"AP\\uc5f0\\ud569\\ub274\\uc2a4\",\n          \"\\uc544\\uc774\\ud2f0\\ub370\\uc77c\\ub9ac\"\n        ],\n        \"semantic_type\": \"\",\n        \"description\": \"\"\n      }\n    },\n    {\n      \"column\": \"date\",\n      \"properties\": {\n        \"dtype\": \"object\",\n        \"num_unique_values\": 1,\n        \"samples\": [\n          \"2025-03-31\"\n        ],\n        \"semantic_type\": \"\",\n        \"description\": \"\"\n      }\n    }\n  ]\n}"
            }
          },
          "metadata": {},
          "execution_count": 83
        }
      ]
    },
    {
      "cell_type": "code",
      "source": [
        "#엑셀 저장\n",
        "df.to_excel(\"naver_news_crawling.xlsx\")"
      ],
      "metadata": {
        "id": "EupUor-TjXwO"
      },
      "execution_count": 84,
      "outputs": []
    },
    {
      "cell_type": "code",
      "source": [],
      "metadata": {
        "id": "gMBbLWIqjrls"
      },
      "execution_count": null,
      "outputs": []
    }
  ]
}