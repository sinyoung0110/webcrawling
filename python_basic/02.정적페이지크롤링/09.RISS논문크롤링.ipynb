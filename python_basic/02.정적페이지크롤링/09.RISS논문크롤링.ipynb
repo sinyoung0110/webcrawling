{
 "cells": [
  {
   "cell_type": "code",
   "execution_count": 23,
   "metadata": {},
   "outputs": [],
   "source": [
    "import requests\n",
    "from bs4 import BeautifulSoup\n",
    "\n",
    "# 파라미터 종류가 많은 경우 꿀팁\n",
    "param={\n",
    "    'isDetailSearch': 'N',\n",
    "'searchGubun': 'true',\n",
    "'viewYn': 'OP',\n",
    "'strQuery': '딥러닝',\n",
    "'order': '/DESC',\n",
    "'onHanja': 'false',\n",
    "'strSort': 'RANK',\n",
    "'iStartCount': 0,\n",
    "'fsearchMethod': 'search',\n",
    "'sflag': 1,\n",
    "'isFDetailSearch': 'N',\n",
    "'pageNumber': 1,\n",
    "'icate': 're_a_kor',\n",
    "'colName': 're_a_kor',\n",
    "'pageScale': 10,\n",
    "'isTab': 'Y',\n",
    "'query': '딥러닝'\n",
    "}\n",
    "\n",
    "response =requests.get(\"https://www.riss.kr/search/Search.do\",params=param)\n",
    "html=response.text\n",
    "soup=BeautifulSoup(html,'html.parser')\n",
    "articles=soup.select(\".srchResultListW>ul>li\") # .cont.ml60도 가능\n"
   ]
  },
  {
   "cell_type": "markdown",
   "metadata": {},
   "source": [
    "3. 서버의 요청 거절에 대한 Case\n",
    "- 상태코드200->응답받은 HTML이 올바르지 않음\n",
    "- 상태코드 400번대\n",
    "- 무한 루프\n",
    "\n",
    "=>해결책 : 헤더가 필요한 경우\n",
    "- 서버쪽에서 요청을 거절할 때, 필요한 정보를 같이 날려준다.\n",
    "- 'User-Agent':'Mozilla/5.0'\n",
    "- 'Referer':'URL 주소값'"
   ]
  },
  {
   "cell_type": "code",
   "execution_count": null,
   "metadata": {},
   "outputs": [
    {
     "name": "stdout",
     "output_type": "stream",
     "text": [
      "['인공지능', '기계학습', '딥러닝', '보안', '비즈니스모델', 'Convergence', 'AI', 'Machine Learning', 'Deep Learning', 'Security', 'Business Model']\n"
     ]
    }
   ],
   "source": [
    "import urllib3\n",
    "urllib3.disable_warnings() # warning message 막는 법\n",
    "\n",
    "#헤더가 필요한 경우\n",
    "header={\n",
    "    'User-Agent' : 'Mozilla/5.0',\n",
    "    'Referer' :'https://www.riss.kr/search/Search.do?isDetailSearch=N&searchGubun=true&viewYn=OP&queryText=&strQuery=%EB%94%A5%EB%9F%AC%EB%8B%9D&exQuery=&exQueryText=&order=%2FDESC&onHanja=false&strSort=RANK&p_year1=&p_year2=&iStartCount=0&orderBy=&mat_type=&mat_subtype=&fulltext_kind=&t_gubun=&learning_type=&ccl_code=&inside_outside=&fric_yn=&db_type=&image_yn=&gubun=&kdc=&ttsUseYn=&l_sub_code=&fsearchMethod=search&sflag=1&isFDetailSearch=N&pageNumber=1&resultKeyword=&fsearchSort=&fsearchOrder=&limiterList=&limiterListText=&facetList=&facetListText=&fsearchDB=&icate=re_a_kor&colName=re_a_kor&pageScale=100&isTab=Y&regnm=&dorg_storage=&language=&language_code=&clickKeyword=&relationKeyword=&query=%EB%94%A5%EB%9F%AC%EB%8B%9D'\n",
    "}\n",
    "for article in articles[0:1]:\n",
    "    title=article.select_one(\".title > a\").text\n",
    "    link='https://www.riss.kr/'+article.select_one(\".title > a\").attrs['href']\n",
    "\n",
    "    #상세 페이지 요청\n",
    "    response=requests.get(link, headers=header, verify=False)\n",
    "    html=response.text\n",
    "    soup=BeautifulSoup(html,'html.parser')\n",
    "\n",
    "    # 1. 순서를 기준으로 찾기\n",
    "    press=soup.select_one(\".infoDetailL>ul>li:nth-of-type(2)>div\").text\n",
    "    year=soup.select_one(\".infoDetailL>ul>li:nth-of-type(5)>div\").text\n",
    "    keywords=soup.select_one(\".infoDetailL>ul>li:nth-of-type(7)>div\").text.split(';')\n",
    "    keywords=[keyword.strip() for keyword in keywords]\n",
    "    # result=[]\n",
    "    # for keyword in keywords:\n",
    "    #result.append(keyword.strip())                                               \n",
    "\n",
    "   \n",
    "    print(title,link,press,year,keywords)"
   ]
  },
  {
   "cell_type": "code",
   "execution_count": null,
   "metadata": {},
   "outputs": [
    {
     "name": "stdout",
     "output_type": "stream",
     "text": [
      "딥러닝 기술이 가지는 보안 문제점에 대한 분석 https://www.riss.kr//search/detail/DetailView.do?p_mat_type=1a0202e37d52c72d&control_no=fe0f743d3b81db467ecd42904f0c5d65&keyword=딥러닝 한국융합학회 2019 ['인공지능', '기계학습', '딥러닝', '보안', '비즈니스모델', 'Convergence', 'AI', 'Machine Learning', 'Deep Learning', 'Security', 'Business Model']\n",
      "딥러닝을 활용한 해양오염 예측도구 개발 및 적용 연구 (Ⅰ) https://www.riss.kr//search/detail/DetailView.do?p_mat_type=1a0202e37d52c72d&control_no=1ea1af44497f3c12d18150b21a227875&keyword=딥러닝 한국환경정책평가연구원(Korea Environment Institute) 2020 ['딥러닝', '해양', '환경영향평가', 'CNN', '콘볼루션 신경망', '클로로필-a', 'Deep Learning', 'Marine', 'EIA', 'Chlorophyll-a']\n",
      "딥러닝 관련 발명의 특허법상 보호 방안에 대한 연구 https://www.riss.kr//search/detail/DetailView.do?p_mat_type=1a0202e37d52c72d&control_no=8fbaff3e9edae0d6c85d2949c297615a&keyword=딥러닝 동아대학교 법학연구소 2020 ['딥러닝', '발명의 성립성', '특허 적격성', '소프트웨어 관련 발명컴퓨터 관련 발명', 'Alice 판결', 'Deep learning', 'eligible subject matter as an invention', 'patent eligibility', 'software-related inventions', 'computer-related inventions', 'Alice Case']\n",
      "인공지능 딥러닝을 활용한 조류현상 예측기술 개발 및 활용방안 https://www.riss.kr//search/detail/DetailView.do?p_mat_type=1a0202e37d52c72d&control_no=0a29a2dc6173cf3db36097776a77e665&keyword=딥러닝 한국환경정책평가연구원(Korea Environment Institute) 2020 ['수질', '조류', '딥러닝', '인공지능', '예측 시스템', 'Water Quality', 'Algal Bloom', 'Water Management', 'Deep Learning']\n",
      "딥러닝 모델 설계를 위한 모델 패턴 추출 및 시각화 https://www.riss.kr//search/detail/DetailView.do?p_mat_type=1a0202e37d52c72d&control_no=2018b7600d122280b36097776a77e665&keyword=딥러닝 한국지능시스템학회 2019 ['딥러닝 모델 설계', '딥러닝 모델 시각화', '딥러닝 모델 재사용', '빈발 패턴 마이닝', '부분 시퀀스 마이닝', 'Deep Learning Model Design', 'Deep Learning Model visualization', 'Deep Learning Model Reuse', 'Frequent Pattern Mining']\n",
      "회귀분석과 딥러닝의 예측 정확성에 대한 비교 그리고 딥러닝 모델 최적화를 위한 기법들의 중요성에 대한 실증적 분석 https://www.riss.kr//search/detail/DetailView.do?p_mat_type=1a0202e37d52c72d&control_no=f3e71b5c2ed26322c85d2949c297615a&keyword=딥러닝 한국전자통신학회 2023 ['인공 지능', '기계 학습', '신경망', '딥러닝', '모델 최적화', 'Artificial Intelligence', 'Machine Learning', 'Neural Network', 'Deep Learning', 'Model Optimization']\n",
      "데이터 분석적 사고력 향상을 위한 딥러닝 기반 학습 시스템 개발 연구 https://www.riss.kr//search/detail/DetailView.do?p_mat_type=1a0202e37d52c72d&control_no=77137042b56c62164884a65323211ff0&keyword=딥러닝 한국정보교육학회 2017 ['데이터 분석적 사고력', '딥러닝', '발견학습', '딥러닝 기반 학습 시스템', '인공지능', 'Data analytic thinking', 'Deep learning', 'Discovery learning', 'Deep Learning based System', 'Artificial intelligence']\n",
      "불꽃 감지를 위한 임베디드 시스템에 적합한 딥러닝 구조 https://www.riss.kr//search/detail/DetailView.do?p_mat_type=1a0202e37d52c72d&control_no=826a1ce78ff2463847de9c1710b0298d&keyword=딥러닝 한국전기전자학회 2019 ['embedded system', 'deep learning structure', 'resource occupancy rate', 'flame detection time', 'flame detection rate']\n",
      "SystemC 기반 스토리지와 버퍼 및 딥러닝 가속기 시뮬레이터 시스템 구현 https://www.riss.kr//search/detail/DetailView.do?p_mat_type=1a0202e37d52c72d&control_no=abb1a2a63216d0edc85d2949c297615a&keyword=딥러닝 한국차세대컴퓨팅학회 2021 ['엣지 디바이스', '낸드 플래시 메모리', '데이터 버퍼', '딥러닝 가속기', '인공지능 응용', 'Edge Device', 'NAND Flash Memory', 'Data Buffers', 'Deep Learning  Accelerator', 'AI Applications']\n",
      "의약 용기의 다중 카메라 인라인 검사 시스템에서의 품질검사를 위한 딥러닝 네트워크 개발 https://www.riss.kr//search/detail/DetailView.do?p_mat_type=1a0202e37d52c72d&control_no=3d05dfc3a2e30eeed18150b21a227875&keyword=딥러닝 한국전기전자학회 2024 ['Deep Learning', 'Inspection System', 'Image Processing', 'Defect Inspection', 'PReLU', 'Residual Learning']\n"
     ]
    }
   ],
   "source": [
    "import urllib3\n",
    "urllib3.disable_warnings() # warning message 막는 법\n",
    "\n",
    "#헤더가 필요한 경우\n",
    "header={\n",
    "    'User-Agent' : 'Mozilla/5.0',\n",
    "    'Referer' :'https://www.riss.kr/search/Search.do?isDetailSearch=N&searchGubun=true&viewYn=OP&queryText=&strQuery=%EB%94%A5%EB%9F%AC%EB%8B%9D&exQuery=&exQueryText=&order=%2FDESC&onHanja=false&strSort=RANK&p_year1=&p_year2=&iStartCount=0&orderBy=&mat_type=&mat_subtype=&fulltext_kind=&t_gubun=&learning_type=&ccl_code=&inside_outside=&fric_yn=&db_type=&image_yn=&gubun=&kdc=&ttsUseYn=&l_sub_code=&fsearchMethod=search&sflag=1&isFDetailSearch=N&pageNumber=1&resultKeyword=&fsearchSort=&fsearchOrder=&limiterList=&limiterListText=&facetList=&facetListText=&fsearchDB=&icate=re_a_kor&colName=re_a_kor&pageScale=100&isTab=Y&regnm=&dorg_storage=&language=&language_code=&clickKeyword=&relationKeyword=&query=%EB%94%A5%EB%9F%AC%EB%8B%9D'\n",
    "}\n",
    "for article in articles:\n",
    "    title=article.select_one(\".title > a\").text\n",
    "    link='https://www.riss.kr/'+article.select_one(\".title > a\").attrs['href']\n",
    "\n",
    "    #상세 페이지 요청\n",
    "    response=requests.get(link, headers=header, verify=False)\n",
    "    html=response.text\n",
    "    soup=BeautifulSoup(html,'html.parser')\n",
    "\n",
    "    # 2. 텍스트를 기준으로 찾기\n",
    "    #find_next_sibling(), find_previous_sibling(), find_parent()\n",
    "    press=soup.find('span',string='발행기관').find_next_sibling().text\n",
    "    year=soup.find('span',string='발행연도').find_next_sibling().text\n",
    "    if soup.find('span',string='주제어'):\n",
    "        keywords=soup.find('span',string='주제어').find_next_sibling().text.split(';')\n",
    "        keywords=[keyword.strip() for keyword in keywords]\n",
    "    else:\n",
    "        keywords=[]\n",
    "    print(title,link,press,year,keywords)"
   ]
  },
  {
   "cell_type": "markdown",
   "metadata": {},
   "source": []
  },
  {
   "cell_type": "code",
   "execution_count": null,
   "metadata": {},
   "outputs": [],
   "source": []
  }
 ],
 "metadata": {
  "kernelspec": {
   "display_name": "base",
   "language": "python",
   "name": "python3"
  },
  "language_info": {
   "codemirror_mode": {
    "name": "ipython",
    "version": 3
   },
   "file_extension": ".py",
   "mimetype": "text/x-python",
   "name": "python",
   "nbconvert_exporter": "python",
   "pygments_lexer": "ipython3",
   "version": "3.12.4"
  }
 },
 "nbformat": 4,
 "nbformat_minor": 2
}
