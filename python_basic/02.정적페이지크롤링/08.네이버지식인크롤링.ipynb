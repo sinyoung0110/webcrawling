{
 "cells": [
  {
   "cell_type": "code",
   "execution_count": null,
   "metadata": {},
   "outputs": [
    {
     "data": {
      "text/plain": [
       "<a class=\"_nclicks:kin.txt _searchListTitleAnchor\" href=\"https://kin.naver.com/qna/detail.naver?d1id=4&amp;dirId=40609&amp;docId=466096204&amp;qb=7IK87ISx7KCE7J6Q&amp;enc=utf8§ion=kin.qna_ency&amp;rank=1&amp;search_sort=0&amp;spq=0\" target=\"_blank\">2024 <b>삼성전자</b> 5급 채용 일정</a>"
      ]
     },
     "execution_count": 12,
     "metadata": {},
     "output_type": "execute_result"
    }
   ],
   "source": [
    "#1단계\n",
    "#첫번째 글 - 제목, 링크, 날짜, 카테고리, 답변수\n",
    "#힌트1) class명에 특수문자가 있는 경우 어떻게 해야할지 고민해보기\n",
    "#힌트2) class명에 띄어쓰기가 있는 경우 어떻게 해야할지 고민해보기\n",
    "#힌트3) 카테고리, 답변수 추출시 nth-of-type 선택자 사용해보기\n",
    "import requests\n",
    "from bs4 import BeautifulSoup\n",
    "\n",
    "response =requests.get(\"https://kin.naver.com/search/list.naver?query=%EC%82%BC%EC%84%B1%EC%A0%84%EC%9E%90\")\n",
    "html=response.text\n",
    "soup=BeautifulSoup(html,'html.parser')\n"
   ]
  },
  {
   "cell_type": "code",
   "execution_count": 37,
   "metadata": {},
   "outputs": [
    {
     "data": {
      "text/plain": [
       "'2024 삼성전자 5급 채용 일정'"
      ]
     },
     "execution_count": 37,
     "metadata": {},
     "output_type": "execute_result"
    }
   ],
   "source": [
    "# 클래스에 특수문자 포함시 \\\\를 붙이자\n",
    "# 얘처럼 클래스가 참 이상해 보일 수 있는데 :나 . 이 있으면 특수문자라서 역슬래시 두번 해줘야지 인식할 수 있다.\n",
    "soup.select_one(\"._nclicks\\\\:kin\\\\.txt\")\n",
    "soup.select_one(\"._searchListTitleAnchor\")\n",
    "soup.select_one(\"._nclicks\\\\:kin\\\\.txt._searchListTitleAnchor\").text"
   ]
  },
  {
   "cell_type": "code",
   "execution_count": 22,
   "metadata": {},
   "outputs": [
    {
     "data": {
      "text/plain": [
       "'https://kin.naver.com/qna/detail.naver?d1id=4&dirId=40609&docId=466096204&qb=7IK87ISx7KCE7J6Q&enc=utf8§ion=kin.qna_ency&rank=1&search_sort=0&spq=0'"
      ]
     },
     "execution_count": 22,
     "metadata": {},
     "output_type": "execute_result"
    }
   ],
   "source": [
    "soup.select_one(\"._nclicks\\\\:kin\\\\.txt._searchListTitleAnchor\").attrs['href']"
   ]
  },
  {
   "cell_type": "code",
   "execution_count": 24,
   "metadata": {},
   "outputs": [
    {
     "data": {
      "text/plain": [
       "'2024.12.06.'"
      ]
     },
     "execution_count": 24,
     "metadata": {},
     "output_type": "execute_result"
    }
   ],
   "source": [
    "soup.select_one(\".txt_inline\").text.strip()"
   ]
  },
  {
   "cell_type": "code",
   "execution_count": 26,
   "metadata": {},
   "outputs": [
    {
     "data": {
      "text/plain": [
       "'생산, 기술'"
      ]
     },
     "execution_count": 26,
     "metadata": {},
     "output_type": "execute_result"
    }
   ],
   "source": [
    "soup.select_one(\".txt_g1._nclicks\\\\:kin\\\\.cat2\").text"
   ]
  },
  {
   "cell_type": "code",
   "execution_count": 27,
   "metadata": {},
   "outputs": [
    {
     "data": {
      "text/plain": [
       "'생산, 기술'"
      ]
     },
     "execution_count": 27,
     "metadata": {},
     "output_type": "execute_result"
    }
   ],
   "source": [
    "soup.select_one(\".txt_block > a:nth-of-type(2)\").text"
   ]
  },
  {
   "cell_type": "code",
   "execution_count": 33,
   "metadata": {},
   "outputs": [
    {
     "data": {
      "text/plain": [
       "'4'"
      ]
     },
     "execution_count": 33,
     "metadata": {},
     "output_type": "execute_result"
    }
   ],
   "source": [
    "soup.select_one(\".txt_block > span:nth-of-type(2)\").text.split('답변수')[1].strip()"
   ]
  },
  {
   "cell_type": "code",
   "execution_count": 39,
   "metadata": {},
   "outputs": [
    {
     "name": "stdout",
     "output_type": "stream",
     "text": [
      "2024 삼성전자 5급 채용 일정 https://kin.naver.com/qna/detail.naver?d1id=4&dirId=40609&docId=466096204&qb=7IK87ISx7KCE7J6Q&enc=utf8§ion=kin.qna_ency&rank=1&search_sort=0&spq=0 2024.12.06. 생산, 기술 4\n",
      "삼성전자 주가 왜이렇게 떨어지나요....  https://kin.naver.com/qna/detail.naver?d1id=4&dirId=40102&docId=479283216&qb=7IK87ISx7KCE7J6Q&enc=utf8§ion=kin.qna_ency&rank=2&search_sort=0&spq=0 2024.12.18. 주식, 증권 12\n",
      "삼성전자반도체 근무중(점심시간 뇌출혈)...  https://kin.naver.com/qna/detail.naver?d1id=6&dirId=6100403&docId=477806009&qb=7IK87ISx7KCE7J6Q&enc=utf8§ion=kin.qna_ency&rank=3&search_sort=0&spq=0 2024.11.13. 산업재해보상보험 7\n",
      "삼성전자 주식 https://kin.naver.com/qna/detail.naver?d1id=4&dirId=40102&docId=477887994&qb=7IK87ISx7KCE7J6Q&enc=utf8§ion=kin.qna_ency&rank=4&search_sort=0&spq=0 2024.11.14. 주식, 증권 7\n",
      "삼성전자 사운드바 엘지tv와...  https://kin.naver.com/qna/detail.naver?d1id=5&dirId=50103&docId=477588576&qb=7IK87ISx7KCE7J6Q&enc=utf8§ion=kin.qna_ency&rank=5&search_sort=0&spq=0 2024.11.07. 영상, 음향 가전 5\n",
      "삼성전자 주가 요즘 왜 이러는 건가요? https://kin.naver.com/qna/detail.naver?d1id=4&dirId=40102&docId=479244754&qb=7IK87ISx7KCE7J6Q&enc=utf8§ion=kin.qna_ency&rank=6&search_sort=0&spq=0 2024.12.23. 주식, 증권 8\n",
      "삼성 전자레인지 https://kin.naver.com/qna/detail.naver?d1id=1&dirId=10303&docId=479301788&qb=7IK87ISx7KCE7J6Q&enc=utf8§ion=kin.qna_ency&rank=7&search_sort=0&spq=0 2024.12.19. 맥OS 1\n",
      "삼성전자 택배 https://kin.naver.com/qna/detail.naver?d1id=5&dirId=501&docId=479449678&qb=7IK87ISx7KCE7J6Q&enc=utf8§ion=kin.qna_ency&rank=8&search_sort=0&spq=0 2024.12.22. 가전제품 1\n",
      "삼성전자 ds dx https://kin.naver.com/qna/detail.naver?d1id=11&dirId=1114&docId=439344340&qb=7IK87ISx7KCE7J6Q&enc=utf8§ion=kin.qna_ency&rank=9&search_sort=0&spq=0 2024.11.02. 물리학 2\n",
      "이 ssd 삼성전자 건가요? https://kin.naver.com/qna/detail.naver?d1id=1&dirId=1010405&docId=478781336&qb=7IK87ISx7KCE7J6Q&enc=utf8§ion=kin.qna_ency&rank=10&search_sort=0&spq=0 2024.12.06. 외장하드, 저장장치 3\n"
     ]
    }
   ],
   "source": [
    "#2단계 1~10개 지식인 긁어오기\n",
    "\n",
    "import requests\n",
    "from bs4 import BeautifulSoup\n",
    "\n",
    "response =requests.get(\"https://kin.naver.com/search/list.naver?query=%EC%82%BC%EC%84%B1%EC%A0%84%EC%9E%90\")\n",
    "html=response.text\n",
    "soup=BeautifulSoup(html,'html.parser')\n",
    "\n",
    "articles=soup.select(\"ul > li > dl\") #또는 .basic1>li도 가능\n",
    "\n",
    "for article in articles:\n",
    "    title=article.select_one(\"._nclicks\\\\:kin\\\\.txt\").text\n",
    "    link=article.select_one(\"._nclicks\\\\:kin\\\\.txt._searchListTitleAnchor\").attrs['href']\n",
    "    date=article.select_one(\".txt_inline\").text.strip()\n",
    "    category=article.select_one(\".txt_block > a:nth-of-type(2)\").text\n",
    "    review=article.select_one(\".txt_block > span:nth-of-type(2)\").text.split('답변수')[1].strip()\n",
    "    print(title,link,date,category,review)\n"
   ]
  },
  {
   "cell_type": "code",
   "execution_count": 40,
   "metadata": {},
   "outputs": [
    {
     "data": {
      "text/plain": [
       "'3'"
      ]
     },
     "execution_count": 40,
     "metadata": {},
     "output_type": "execute_result"
    }
   ],
   "source": [
    "page=input(\"몇 페이지까지 크롤링할래?\")\n",
    "page"
   ]
  },
  {
   "cell_type": "code",
   "execution_count": 41,
   "metadata": {},
   "outputs": [
    {
     "name": "stdout",
     "output_type": "stream",
     "text": [
      "2024 삼성전자 5급 채용 일정 https://kin.naver.com/qna/detail.naver?d1id=4&dirId=40609&docId=466096204&qb=7IK87ISx7KCE7J6Q&enc=utf8§ion=kin.qna_ency&rank=1&search_sort=0&spq=0 2024.12.06. 생산, 기술 4\n",
      "삼성전자 주가 왜이렇게 떨어지나요....  https://kin.naver.com/qna/detail.naver?d1id=4&dirId=40102&docId=479283216&qb=7IK87ISx7KCE7J6Q&enc=utf8§ion=kin.qna_ency&rank=2&search_sort=0&spq=0 2024.12.18. 주식, 증권 12\n",
      "삼성전자반도체 근무중(점심시간 뇌출혈)...  https://kin.naver.com/qna/detail.naver?d1id=6&dirId=6100403&docId=477806009&qb=7IK87ISx7KCE7J6Q&enc=utf8§ion=kin.qna_ency&rank=3&search_sort=0&spq=0 2024.11.13. 산업재해보상보험 7\n",
      "삼성전자 주식 https://kin.naver.com/qna/detail.naver?d1id=4&dirId=40102&docId=477887994&qb=7IK87ISx7KCE7J6Q&enc=utf8§ion=kin.qna_ency&rank=4&search_sort=0&spq=0 2024.11.14. 주식, 증권 7\n",
      "삼성전자 사운드바 엘지tv와...  https://kin.naver.com/qna/detail.naver?d1id=5&dirId=50103&docId=477588576&qb=7IK87ISx7KCE7J6Q&enc=utf8§ion=kin.qna_ency&rank=5&search_sort=0&spq=0 2024.11.07. 영상, 음향 가전 5\n",
      "삼성전자 주가 요즘 왜 이러는 건가요? https://kin.naver.com/qna/detail.naver?d1id=4&dirId=40102&docId=479244754&qb=7IK87ISx7KCE7J6Q&enc=utf8§ion=kin.qna_ency&rank=6&search_sort=0&spq=0 2024.12.23. 주식, 증권 8\n",
      "삼성 전자레인지 https://kin.naver.com/qna/detail.naver?d1id=1&dirId=10303&docId=479301788&qb=7IK87ISx7KCE7J6Q&enc=utf8§ion=kin.qna_ency&rank=7&search_sort=0&spq=0 2024.12.19. 맥OS 1\n",
      "삼성전자 택배 https://kin.naver.com/qna/detail.naver?d1id=5&dirId=501&docId=479449678&qb=7IK87ISx7KCE7J6Q&enc=utf8§ion=kin.qna_ency&rank=8&search_sort=0&spq=0 2024.12.22. 가전제품 1\n",
      "삼성전자 ds dx https://kin.naver.com/qna/detail.naver?d1id=11&dirId=1114&docId=439344340&qb=7IK87ISx7KCE7J6Q&enc=utf8§ion=kin.qna_ency&rank=9&search_sort=0&spq=0 2024.11.02. 물리학 2\n",
      "이 ssd 삼성전자 건가요? https://kin.naver.com/qna/detail.naver?d1id=1&dirId=1010405&docId=478781336&qb=7IK87ISx7KCE7J6Q&enc=utf8§ion=kin.qna_ency&rank=10&search_sort=0&spq=0 2024.12.06. 외장하드, 저장장치 3\n",
      "삼성전자 55인치 4K UHD 디지털...  https://kin.naver.com/qna/detail.naver?d1id=1&dirId=10901&docId=475740072&qb=7IK87ISx7KCE7J6Q&enc=utf8§ion=kin.qna_ency&rank=11&search_sort=0&spq=0 2024.11.22. 케이블TV 2\n",
      "삼성전자 배당금 지급일 https://kin.naver.com/qna/detail.naver?d1id=11&dirId=1107&docId=383486890&qb=7IK87ISx7KCE7J6Q&enc=utf8§ion=kin.qna_ency&rank=12&search_sort=0&spq=0 2024.09.12. 평생교육 6\n",
      "삼성전자 1억 매수 어때요? https://kin.naver.com/qna/detail.naver?d1id=4&dirId=40102&docId=473897632&qb=7IK87ISx7KCE7J6Q&enc=utf8§ion=kin.qna_ency&rank=13&search_sort=0&spq=0 2024.08.13. 주식, 증권 9\n",
      "삼성전자 본사 위치가 어딘가요? https://kin.naver.com/qna/detail.naver?d1id=1&dirId=107040201&docId=472663460&qb=7IK87ISx7KCE7J6Q&enc=utf8§ion=kin.qna_ency&rank=14&search_sort=0&spq=0 2024.07.18. 삼성 3\n",
      "삼성전자 전망이 어떻게 되나요 https://kin.naver.com/qna/detail.naver?d1id=4&dirId=40102&docId=476155123&qb=7IK87ISx7KCE7J6Q&enc=utf8§ion=kin.qna_ency&rank=15&search_sort=0&spq=0 2024.11.20. 주식, 증권 4\n",
      "삼성전자 서비스센터 예약 https://kin.naver.com/qna/detail.naver?d1id=1&dirId=107040201&docId=475043882&qb=7IK87ISx7KCE7J6Q&enc=utf8§ion=kin.qna_ency&rank=16&search_sort=0&spq=0 2024.11.26. 삼성 6\n",
      "삼성전자 주가하락원인. https://kin.naver.com/qna/detail.naver?d1id=4&dirId=40102&docId=476452815&qb=7IK87ISx7KCE7J6Q&enc=utf8§ion=kin.qna_ency&rank=17&search_sort=0&spq=0 2024.10.22. 주식, 증권 6\n",
      "삼성전자매장에서 갤럭시 자급제 살수...  https://kin.naver.com/qna/detail.naver?d1id=5&dirId=5010602&docId=469930383&qb=7IK87ISx7KCE7J6Q&enc=utf8§ion=kin.qna_ency&rank=18&search_sort=0&spq=0 2024.05.21. 안드로이드폰 4\n",
      "삼성전자 온라인 파트너가 저렴한 이유...  https://kin.naver.com/qna/detail.naver?d1id=4&dirId=40701&docId=478700995&qb=7IK87ISx7KCE7J6Q&enc=utf8§ion=kin.qna_ency&rank=19&search_sort=0&spq=0 2024.12.10. 판매, 유통업 1\n",
      "삼성전자 사업 대해서 https://kin.naver.com/qna/detail.naver?d1id=11&dirId=1118&docId=480109198&qb=7IK87ISx7KCE7J6Q&enc=utf8§ion=kin.qna_ency&rank=20&search_sort=0&spq=0 2025.01.07. 전기, 전자 공학 1\n",
      "삼성전자 사이트에서 노트북 구매 https://kin.naver.com/qna/detail.naver?d1id=5&dirId=50202&docId=478507300&qb=7IK87ISx7KCE7J6Q&enc=utf8§ion=kin.qna_ency&rank=21&search_sort=0&spq=0 2024.11.29. 노트북 1\n",
      "삼성전자 주가가 왜 떨어지죠? https://kin.naver.com/qna/detail.naver?d1id=4&dirId=408&docId=476469656&qb=7IK87ISx7KCE7J6Q&enc=utf8§ion=kin.qna_ency&rank=22&search_sort=0&spq=0 2024.10.14. 경제 정책, 제도 8\n",
      "삼성전자 유선청소기 흡입력 https://kin.naver.com/qna/detail.naver?d1id=8&dirId=80901&docId=479722069&qb=7IK87ISx7KCE7J6Q&enc=utf8§ion=kin.qna_ency&rank=23&search_sort=0&spq=0 2024.12.29. 청소, 수리 3\n",
      "삼성전자 서비스센터 https://kin.naver.com/qna/detail.naver?d1id=1&dirId=107040201&docId=462376075&qb=7IK87ISx7KCE7J6Q&enc=utf8§ion=kin.qna_ency&rank=24&search_sort=0&spq=0 2024.10.24. 삼성 2\n",
      "삼성전자의 마케팅 믹스 https://kin.naver.com/qna/detail.naver?d1id=1&dirId=10503&docId=477345412&qb=7IK87ISx7KCE7J6Q&enc=utf8§ion=kin.qna_ency&rank=25&search_sort=0&spq=0 2024.11.01. 웹 서버구축, 호스팅 2\n",
      "삼성전자 오디세이G5 S32CG550 QHD...  https://kin.naver.com/qna/detail.naver?d1id=5&dirId=5020401&docId=478500040&qb=7IK87ISx7KCE7J6Q&enc=utf8§ion=kin.qna_ency&rank=26&search_sort=0&spq=0 2024.11.29. 모니터 1\n",
      "삼성전자로지텍 https://kin.naver.com/qna/detail.naver?d1id=1&dirId=10901&docId=420915177&qb=7IK87ISx7KCE7J6Q&enc=utf8§ion=kin.qna_ency&rank=27&search_sort=0&spq=0 2024.11.07. 케이블TV 2\n",
      "삼성전자 주가 어때요? https://kin.naver.com/qna/detail.naver?d1id=8&dirId=80301&docId=473890696&qb=7IK87ISx7KCE7J6Q&enc=utf8§ion=kin.qna_ency&rank=28&search_sort=0&spq=0 2024.12.31. 피부관리 12\n",
      "Isa계좌로 삼성전자 개별주식 매도시 https://kin.naver.com/qna/detail.naver?d1id=4&dirId=40102&docId=478655945&qb=7IK87ISx7KCE7J6Q&enc=utf8§ion=kin.qna_ency&rank=29&search_sort=0&spq=0 2024.12.03. 주식, 증권 2\n",
      "삼성전자 5급 채용 https://kin.naver.com/qna/detail.naver?d1id=4&dirId=40609&docId=477072423&qb=7IK87ISx7KCE7J6Q&enc=utf8§ion=kin.qna_ency&rank=30&search_sort=0&spq=0 2024.11.13. 생산, 기술 2\n",
      "삼성전자 큐커오븐 직화오븐 소리 이게...  https://kin.naver.com/qna/detail.naver?d1id=5&dirId=50104&docId=480030721&qb=7IK87ISx7KCE7J6Q&enc=utf8§ion=kin.qna_ency&rank=31&search_sort=0&spq=0 2025.01.08. 청소, 주방, 계절 가전 2\n",
      "삼성전자DS 장애인부문 4급 신입사원...  https://kin.naver.com/qna/detail.naver?d1id=4&dirId=40609&docId=393091530&qb=7IK87ISx7KCE7J6Q&enc=utf8§ion=kin.qna_ency&rank=32&search_sort=0&spq=0 2024.10.27. 생산, 기술 5\n",
      "삼성전자 주식 어케되는거죠 https://kin.naver.com/qna/detail.naver?d1id=4&dirId=40102&docId=477751145&qb=7IK87ISx7KCE7J6Q&enc=utf8§ion=kin.qna_ency&rank=33&search_sort=0&spq=0 2024.11.11. 주식, 증권 8\n",
      "삼성전자서비스 센터에 갈 때 https://kin.naver.com/qna/detail.naver?d1id=8&dirId=814&docId=437422316&qb=7IK87ISx7KCE7J6Q&enc=utf8§ion=kin.qna_ency&rank=34&search_sort=0&spq=0 2024.10.24. 기타 3\n",
      "삼성전자 자사주 분할매입이...  https://kin.naver.com/qna/detail.naver?d1id=4&dirId=40102&docId=477939157&qb=7IK87ISx7KCE7J6Q&enc=utf8§ion=kin.qna_ency&rank=35&search_sort=0&spq=0 2024.11.15. 주식, 증권 5\n",
      "삼성전자 주가 하락과 상승의 이유는? https://kin.naver.com/qna/detail.naver?d1id=4&dirId=40102&docId=476769663&qb=7IK87ISx7KCE7J6Q&enc=utf8§ion=kin.qna_ency&rank=36&search_sort=0&spq=0 2024.11.13. 주식, 증권 10\n",
      "삼성전자 서비스센터 경주센터 갈 때...  https://kin.naver.com/qna/detail.naver?d1id=1&dirId=107040202&docId=453430802&qb=7IK87ISx7KCE7J6Q&enc=utf8§ion=kin.qna_ency&rank=37&search_sort=0&spq=0 2024.11.26. LG 7\n",
      "삼성전자 배당금 https://kin.naver.com/qna/detail.naver?d1id=4&dirId=40102&docId=469870616&qb=7IK87ISx7KCE7J6Q&enc=utf8§ion=kin.qna_ency&rank=38&search_sort=0&spq=0 2024.05.20. 주식, 증권 5\n",
      "삼성전자 면접 대비하는 학원 개강 보통...  https://kin.naver.com/qna/detail.naver?d1id=4&dirId=406&docId=371951229&qb=7IK87ISx7KCE7J6Q&enc=utf8§ion=kin.qna_ency&rank=39&search_sort=0&spq=0 2024.08.06. 직업, 취업 6\n",
      "삼성전자 채용기간좀 알려주세요 https://kin.naver.com/qna/detail.naver?d1id=4&dirId=40609&docId=477771441&qb=7IK87ISx7KCE7J6Q&enc=utf8§ion=kin.qna_ency&rank=40&search_sort=0&spq=0 2024.11.21. 생산, 기술 2\n"
     ]
    }
   ],
   "source": [
    "#3단계 \n",
    "#1~n페이지까지 크롤링하기(n:사용자가 입력한 숫자)\n",
    "#파이썬 input명령어 사용해보기\n",
    "\n",
    "import requests\n",
    "from bs4 import BeautifulSoup\n",
    "\n",
    "page=int(input(\"몇 페이지까지 크롤링할래?\"))\n",
    "\n",
    "for i in range(1,page+1):\n",
    "    response =requests.get(f\"https://kin.naver.com/search/list.naver?query=%EC%82%BC%EC%84%B1%EC%A0%84%EC%9E%90&page={i}\")\n",
    "    html=response.text\n",
    "    soup=BeautifulSoup(html,'html.parser')\n",
    "\n",
    "    articles=soup.select(\".basic1>li\")\n",
    "\n",
    "    for article in articles:\n",
    "        title=article.select_one(\"._nclicks\\\\:kin\\\\.txt\").text\n",
    "        link=article.select_one(\"._nclicks\\\\:kin\\\\.txt._searchListTitleAnchor\").attrs['href']\n",
    "        date=article.select_one(\".txt_inline\").text.strip()\n",
    "        category=article.select_one(\".txt_block > a:nth-of-type(2)\").text\n",
    "        review=article.select_one(\".txt_block > span:nth-of-type(2)\").text.split('답변수')[1].strip()\n",
    "        print(title,link,date,category,review)\n"
   ]
  },
  {
   "cell_type": "code",
   "execution_count": 45,
   "metadata": {},
   "outputs": [
    {
     "name": "stdout",
     "output_type": "stream",
     "text": [
      "2024 삼성전자 5급 채용 일정 https://kin.naver.com/qna/detail.naver?d1id=4&dirId=40609&docId=466096204&qb=7IK87ISx7KCE7J6Q&enc=utf8§ion=kin.qna_ency&rank=1&search_sort=0&spq=0 2024.12.06. 생산, 기술 4\n",
      "삼성전자 주가 왜이렇게 떨어지나요....  https://kin.naver.com/qna/detail.naver?d1id=4&dirId=40102&docId=479283216&qb=7IK87ISx7KCE7J6Q&enc=utf8§ion=kin.qna_ency&rank=2&search_sort=0&spq=0 2024.12.18. 주식, 증권 12\n",
      "삼성전자반도체 근무중(점심시간 뇌출혈)...  https://kin.naver.com/qna/detail.naver?d1id=6&dirId=6100403&docId=477806009&qb=7IK87ISx7KCE7J6Q&enc=utf8§ion=kin.qna_ency&rank=3&search_sort=0&spq=0 2024.11.13. 산업재해보상보험 7\n",
      "삼성전자 주식 https://kin.naver.com/qna/detail.naver?d1id=4&dirId=40102&docId=477887994&qb=7IK87ISx7KCE7J6Q&enc=utf8§ion=kin.qna_ency&rank=4&search_sort=0&spq=0 2024.11.14. 주식, 증권 7\n",
      "삼성전자 사운드바 엘지tv와...  https://kin.naver.com/qna/detail.naver?d1id=5&dirId=50103&docId=477588576&qb=7IK87ISx7KCE7J6Q&enc=utf8§ion=kin.qna_ency&rank=5&search_sort=0&spq=0 2024.11.07. 영상, 음향 가전 5\n",
      "삼성전자 주가 요즘 왜 이러는 건가요? https://kin.naver.com/qna/detail.naver?d1id=4&dirId=40102&docId=479244754&qb=7IK87ISx7KCE7J6Q&enc=utf8§ion=kin.qna_ency&rank=6&search_sort=0&spq=0 2024.12.23. 주식, 증권 8\n",
      "삼성 전자레인지 https://kin.naver.com/qna/detail.naver?d1id=1&dirId=10303&docId=479301788&qb=7IK87ISx7KCE7J6Q&enc=utf8§ion=kin.qna_ency&rank=7&search_sort=0&spq=0 2024.12.19. 맥OS 1\n",
      "삼성전자 택배 https://kin.naver.com/qna/detail.naver?d1id=5&dirId=501&docId=479449678&qb=7IK87ISx7KCE7J6Q&enc=utf8§ion=kin.qna_ency&rank=8&search_sort=0&spq=0 2024.12.22. 가전제품 1\n",
      "삼성전자 ds dx https://kin.naver.com/qna/detail.naver?d1id=11&dirId=1114&docId=439344340&qb=7IK87ISx7KCE7J6Q&enc=utf8§ion=kin.qna_ency&rank=9&search_sort=0&spq=0 2024.11.02. 물리학 2\n",
      "이 ssd 삼성전자 건가요? https://kin.naver.com/qna/detail.naver?d1id=1&dirId=1010405&docId=478781336&qb=7IK87ISx7KCE7J6Q&enc=utf8§ion=kin.qna_ency&rank=10&search_sort=0&spq=0 2024.12.06. 외장하드, 저장장치 3\n",
      "삼성전자 55인치 4K UHD 디지털...  https://kin.naver.com/qna/detail.naver?d1id=1&dirId=10901&docId=475740072&qb=7IK87ISx7KCE7J6Q&enc=utf8§ion=kin.qna_ency&rank=11&search_sort=0&spq=0 2024.11.22. 케이블TV 2\n",
      "삼성전자 배당금 지급일 https://kin.naver.com/qna/detail.naver?d1id=11&dirId=1107&docId=383486890&qb=7IK87ISx7KCE7J6Q&enc=utf8§ion=kin.qna_ency&rank=12&search_sort=0&spq=0 2024.09.12. 평생교육 6\n",
      "삼성전자 1억 매수 어때요? https://kin.naver.com/qna/detail.naver?d1id=4&dirId=40102&docId=473897632&qb=7IK87ISx7KCE7J6Q&enc=utf8§ion=kin.qna_ency&rank=13&search_sort=0&spq=0 2024.08.13. 주식, 증권 9\n",
      "삼성전자 본사 위치가 어딘가요? https://kin.naver.com/qna/detail.naver?d1id=1&dirId=107040201&docId=472663460&qb=7IK87ISx7KCE7J6Q&enc=utf8§ion=kin.qna_ency&rank=14&search_sort=0&spq=0 2024.07.18. 삼성 3\n",
      "삼성전자 전망이 어떻게 되나요 https://kin.naver.com/qna/detail.naver?d1id=4&dirId=40102&docId=476155123&qb=7IK87ISx7KCE7J6Q&enc=utf8§ion=kin.qna_ency&rank=15&search_sort=0&spq=0 2024.11.20. 주식, 증권 4\n",
      "삼성전자 서비스센터 예약 https://kin.naver.com/qna/detail.naver?d1id=1&dirId=107040201&docId=475043882&qb=7IK87ISx7KCE7J6Q&enc=utf8§ion=kin.qna_ency&rank=16&search_sort=0&spq=0 2024.11.26. 삼성 6\n",
      "삼성전자 주가하락원인. https://kin.naver.com/qna/detail.naver?d1id=4&dirId=40102&docId=476452815&qb=7IK87ISx7KCE7J6Q&enc=utf8§ion=kin.qna_ency&rank=17&search_sort=0&spq=0 2024.10.22. 주식, 증권 6\n",
      "삼성전자매장에서 갤럭시 자급제 살수...  https://kin.naver.com/qna/detail.naver?d1id=5&dirId=5010602&docId=469930383&qb=7IK87ISx7KCE7J6Q&enc=utf8§ion=kin.qna_ency&rank=18&search_sort=0&spq=0 2024.05.21. 안드로이드폰 4\n",
      "삼성전자 온라인 파트너가 저렴한 이유...  https://kin.naver.com/qna/detail.naver?d1id=4&dirId=40701&docId=478700995&qb=7IK87ISx7KCE7J6Q&enc=utf8§ion=kin.qna_ency&rank=19&search_sort=0&spq=0 2024.12.10. 판매, 유통업 1\n",
      "삼성전자 사업 대해서 https://kin.naver.com/qna/detail.naver?d1id=11&dirId=1118&docId=480109198&qb=7IK87ISx7KCE7J6Q&enc=utf8§ion=kin.qna_ency&rank=20&search_sort=0&spq=0 2025.01.07. 전기, 전자 공학 1\n",
      "삼성전자 사이트에서 노트북 구매 https://kin.naver.com/qna/detail.naver?d1id=5&dirId=50202&docId=478507300&qb=7IK87ISx7KCE7J6Q&enc=utf8§ion=kin.qna_ency&rank=21&search_sort=0&spq=0 2024.11.29. 노트북 1\n",
      "삼성전자 주가가 왜 떨어지죠? https://kin.naver.com/qna/detail.naver?d1id=4&dirId=408&docId=476469656&qb=7IK87ISx7KCE7J6Q&enc=utf8§ion=kin.qna_ency&rank=22&search_sort=0&spq=0 2024.10.14. 경제 정책, 제도 8\n",
      "삼성전자 유선청소기 흡입력 https://kin.naver.com/qna/detail.naver?d1id=8&dirId=80901&docId=479722069&qb=7IK87ISx7KCE7J6Q&enc=utf8§ion=kin.qna_ency&rank=23&search_sort=0&spq=0 2024.12.29. 청소, 수리 3\n",
      "삼성전자 서비스센터 https://kin.naver.com/qna/detail.naver?d1id=1&dirId=107040201&docId=462376075&qb=7IK87ISx7KCE7J6Q&enc=utf8§ion=kin.qna_ency&rank=24&search_sort=0&spq=0 2024.10.24. 삼성 2\n",
      "삼성전자의 마케팅 믹스 https://kin.naver.com/qna/detail.naver?d1id=1&dirId=10503&docId=477345412&qb=7IK87ISx7KCE7J6Q&enc=utf8§ion=kin.qna_ency&rank=25&search_sort=0&spq=0 2024.11.01. 웹 서버구축, 호스팅 2\n",
      "삼성전자 오디세이G5 S32CG550 QHD...  https://kin.naver.com/qna/detail.naver?d1id=5&dirId=5020401&docId=478500040&qb=7IK87ISx7KCE7J6Q&enc=utf8§ion=kin.qna_ency&rank=26&search_sort=0&spq=0 2024.11.29. 모니터 1\n",
      "삼성전자로지텍 https://kin.naver.com/qna/detail.naver?d1id=1&dirId=10901&docId=420915177&qb=7IK87ISx7KCE7J6Q&enc=utf8§ion=kin.qna_ency&rank=27&search_sort=0&spq=0 2024.11.07. 케이블TV 2\n",
      "삼성전자 주가 어때요? https://kin.naver.com/qna/detail.naver?d1id=8&dirId=80301&docId=473890696&qb=7IK87ISx7KCE7J6Q&enc=utf8§ion=kin.qna_ency&rank=28&search_sort=0&spq=0 2024.12.31. 피부관리 12\n",
      "Isa계좌로 삼성전자 개별주식 매도시 https://kin.naver.com/qna/detail.naver?d1id=4&dirId=40102&docId=478655945&qb=7IK87ISx7KCE7J6Q&enc=utf8§ion=kin.qna_ency&rank=29&search_sort=0&spq=0 2024.12.03. 주식, 증권 2\n",
      "삼성전자 5급 채용 https://kin.naver.com/qna/detail.naver?d1id=4&dirId=40609&docId=477072423&qb=7IK87ISx7KCE7J6Q&enc=utf8§ion=kin.qna_ency&rank=30&search_sort=0&spq=0 2024.11.13. 생산, 기술 2\n"
     ]
    }
   ],
   "source": [
    "#4단계\n",
    "#엑셀저장\n",
    "#3단계 \n",
    "#1~n페이지까지 크롤링하기(n:사용자가 입력한 숫자)\n",
    "#파이썬 input명령어 사용해보기\n",
    "\n",
    "import requests\n",
    "from bs4 import BeautifulSoup\n",
    "import pandas as pd\n",
    "\n",
    "page=int(input(\"몇 페이지까지 크롤링할래?\"))\n",
    "\n",
    "data=[]\n",
    "for i in range(1,page+1):\n",
    "    response =requests.get(f\"https://kin.naver.com/search/list.naver?query=%EC%82%BC%EC%84%B1%EC%A0%84%EC%9E%90&page={i}\")\n",
    "    html=response.text\n",
    "    soup=BeautifulSoup(html,'html.parser')\n",
    "\n",
    "    articles=soup.select(\".basic1>li\")\n",
    "\n",
    "    for article in articles:\n",
    "        title=article.select_one(\"._nclicks\\\\:kin\\\\.txt\").text\n",
    "        link=article.select_one(\"._nclicks\\\\:kin\\\\.txt._searchListTitleAnchor\").attrs['href']\n",
    "        date=article.select_one(\".txt_inline\").text.strip()\n",
    "        category=article.select_one(\".txt_block > a:nth-of-type(2)\").text\n",
    "        review=article.select_one(\".txt_block > span:nth-of-type(2)\").text.split('답변수')[1].strip()\n",
    "        print(title,link,date,category,review)\n",
    "        data.append([title,link,date,category,review])\n"
   ]
  },
  {
   "cell_type": "code",
   "execution_count": 46,
   "metadata": {},
   "outputs": [
    {
     "data": {
      "text/html": [
       "<div>\n",
       "<style scoped>\n",
       "    .dataframe tbody tr th:only-of-type {\n",
       "        vertical-align: middle;\n",
       "    }\n",
       "\n",
       "    .dataframe tbody tr th {\n",
       "        vertical-align: top;\n",
       "    }\n",
       "\n",
       "    .dataframe thead th {\n",
       "        text-align: right;\n",
       "    }\n",
       "</style>\n",
       "<table border=\"1\" class=\"dataframe\">\n",
       "  <thead>\n",
       "    <tr style=\"text-align: right;\">\n",
       "      <th></th>\n",
       "      <th>제목</th>\n",
       "      <th>링크</th>\n",
       "      <th>날짜</th>\n",
       "      <th>카테고리</th>\n",
       "      <th>답변수</th>\n",
       "    </tr>\n",
       "  </thead>\n",
       "  <tbody>\n",
       "    <tr>\n",
       "      <th>0</th>\n",
       "      <td>2024 삼성전자 5급 채용 일정</td>\n",
       "      <td>https://kin.naver.com/qna/detail.naver?d1id=4&amp;...</td>\n",
       "      <td>2024.12.06.</td>\n",
       "      <td>생산, 기술</td>\n",
       "      <td>4</td>\n",
       "    </tr>\n",
       "    <tr>\n",
       "      <th>1</th>\n",
       "      <td>삼성전자 주가 왜이렇게 떨어지나요....</td>\n",
       "      <td>https://kin.naver.com/qna/detail.naver?d1id=4&amp;...</td>\n",
       "      <td>2024.12.18.</td>\n",
       "      <td>주식, 증권</td>\n",
       "      <td>12</td>\n",
       "    </tr>\n",
       "    <tr>\n",
       "      <th>2</th>\n",
       "      <td>삼성전자반도체 근무중(점심시간 뇌출혈)...</td>\n",
       "      <td>https://kin.naver.com/qna/detail.naver?d1id=6&amp;...</td>\n",
       "      <td>2024.11.13.</td>\n",
       "      <td>산업재해보상보험</td>\n",
       "      <td>7</td>\n",
       "    </tr>\n",
       "  </tbody>\n",
       "</table>\n",
       "</div>"
      ],
      "text/plain": [
       "                          제목  \\\n",
       "0         2024 삼성전자 5급 채용 일정   \n",
       "1    삼성전자 주가 왜이렇게 떨어지나요....    \n",
       "2  삼성전자반도체 근무중(점심시간 뇌출혈)...    \n",
       "\n",
       "                                                  링크           날짜      카테고리  \\\n",
       "0  https://kin.naver.com/qna/detail.naver?d1id=4&...  2024.12.06.    생산, 기술   \n",
       "1  https://kin.naver.com/qna/detail.naver?d1id=4&...  2024.12.18.    주식, 증권   \n",
       "2  https://kin.naver.com/qna/detail.naver?d1id=6&...  2024.11.13.  산업재해보상보험   \n",
       "\n",
       "  답변수  \n",
       "0   4  \n",
       "1  12  \n",
       "2   7  "
      ]
     },
     "execution_count": 46,
     "metadata": {},
     "output_type": "execute_result"
    }
   ],
   "source": [
    "#데이터 프레임 만들기\n",
    "df=pd.DataFrame(data, columns=['제목','링크','날짜','카테고리','답변수'])\n",
    "df.head(3)"
   ]
  },
  {
   "cell_type": "code",
   "execution_count": 48,
   "metadata": {},
   "outputs": [],
   "source": [
    "#엑셀 저장\n",
    "df.to_excel('naver_kin_crawling.xlsx')"
   ]
  },
  {
   "cell_type": "code",
   "execution_count": null,
   "metadata": {},
   "outputs": [],
   "source": []
  }
 ],
 "metadata": {
  "kernelspec": {
   "display_name": "base",
   "language": "python",
   "name": "python3"
  },
  "language_info": {
   "codemirror_mode": {
    "name": "ipython",
    "version": 3
   },
   "file_extension": ".py",
   "mimetype": "text/x-python",
   "name": "python",
   "nbconvert_exporter": "python",
   "pygments_lexer": "ipython3",
   "version": "3.12.4"
  }
 },
 "nbformat": 4,
 "nbformat_minor": 2
}
