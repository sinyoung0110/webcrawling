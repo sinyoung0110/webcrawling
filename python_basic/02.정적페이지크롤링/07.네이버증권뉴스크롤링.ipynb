{
 "cells": [
  {
   "cell_type": "code",
   "execution_count": 2,
   "metadata": {},
   "outputs": [],
   "source": [
    "#1단계\n",
    "#첫번쨰 뉴스 - 제목,링크, 내용, 언론사, 날짜\n",
    "import requests\n",
    "from bs4 import BeautifulSoup\n",
    "\n",
    "response =requests.get(\"https://finance.naver.com/news/mainnews.naver\")\n",
    "html=response.text\n",
    "soup=BeautifulSoup(html,'html.parser')"
   ]
  },
  {
   "cell_type": "code",
   "execution_count": null,
   "metadata": {},
   "outputs": [
    {
     "data": {
      "text/plain": [
       "\"블랙박스에도 없는 '충돌 전 4분' 기록…참사 규명 장기화 우려\""
      ]
     },
     "execution_count": 4,
     "metadata": {},
     "output_type": "execute_result"
    }
   ],
   "source": [
    "#제목\n",
    "soup.select_one(\".articleSubject>a\").text"
   ]
  },
  {
   "cell_type": "code",
   "execution_count": null,
   "metadata": {},
   "outputs": [
    {
     "data": {
      "text/plain": [
       "'https://finance.naver.com/news/news_read.naver?article_id=0001866066&office_id=057&mode=mainnews&type=&date=2025-01-11&page=1'"
      ]
     },
     "execution_count": 14,
     "metadata": {},
     "output_type": "execute_result"
    }
   ],
   "source": [
    "#상세 페이지 가는 부분\n",
    "'https://finance.naver.com'+soup.select_one(\".articleSubject>a\").attrs['href']"
   ]
  },
  {
   "cell_type": "code",
   "execution_count": null,
   "metadata": {},
   "outputs": [
    {
     "data": {
      "text/plain": [
       "'미국으로 보내 분석 중인 제주항공 참사 여객기 블랙박스에 충돌 전 마지막 4분간의 기록이 들어 있지 않은 것으로 확인됐습니다. 비행기록..'"
      ]
     },
     "execution_count": 19,
     "metadata": {},
     "output_type": "execute_result"
    }
   ],
   "source": [
    "#내용\n",
    "soup.select_one(\".articleSummary\").contents[0].strip()\n",
    "#soup.select_one(\".articleSummary\").text 를 하면 \\n\\t\\t\\t가 많다. 그럴 땐 일단 contents를 해주면 보기 좋게 변경되고\n",
    "#공백은 strip()를 해주면 된다."
   ]
  },
  {
   "cell_type": "code",
   "execution_count": 23,
   "metadata": {},
   "outputs": [
    {
     "data": {
      "text/plain": [
       "'MBN'"
      ]
     },
     "execution_count": 23,
     "metadata": {},
     "output_type": "execute_result"
    }
   ],
   "source": [
    "#언론사\n",
    "soup.select_one(\".press\").text.strip()"
   ]
  },
  {
   "cell_type": "code",
   "execution_count": 22,
   "metadata": {},
   "outputs": [
    {
     "data": {
      "text/plain": [
       "'2025-01-11 20:09:08'"
      ]
     },
     "execution_count": 22,
     "metadata": {},
     "output_type": "execute_result"
    }
   ],
   "source": [
    "#날짜\n",
    "soup.select_one(\".wdate\").text"
   ]
  },
  {
   "cell_type": "code",
   "execution_count": 27,
   "metadata": {},
   "outputs": [
    {
     "name": "stdout",
     "output_type": "stream",
     "text": [
      "블랙박스에도 없는 '충돌 전 4분' 기록…참사 규명 장기화 우려 https://finance.naver.com/news/news_read.naver?article_id=0001866066&office_id=057&mode=mainnews&type=&date=2025-01-11&page=1 미국으로 보내 분석 중인 제주항공 참사 여객기 블랙박스에 충돌 전 마지막 4분간의 기록이 들어 있지 않은 것으로 확인됐습니다. 비행기록.. MBN 2025-01-11 20:09:08\n",
      "이지스운용 \"올 상업용 부동산 패러다임 전환 맞을 것\"[fn마켓워치] https://finance.naver.com/news/news_read.naver?article_id=0005294100&office_id=014&mode=mainnews&type=&date=2025-01-11&page=1 올해 국내 상업용 부동산 시장이 투자 구조와 주기 등 패러다임 전환을 맞을 것이라는 전망이 나왔다. 이지스자산운용은 ‘2025년 시장 .. 파이낸셜뉴스 2025-01-11 19:48:11\n",
      "\"역시 금이 최고야\"…'30% 껑충' 금 ETF 샀더니 https://finance.naver.com/news/news_read.naver?article_id=0005080889&office_id=015&mode=mainnews&type=&date=2025-01-11&page=1 글로벌 경제 불확실성이 커지면서 지난해에 이어 올해도 급값이 상승세를 이어갈 것이란 전망이 나온다. 금 투자는 은행 골드뱅킹(금 통장).. 한국경제 2025-01-11 19:25:11\n",
      "'증권업계 대부' 강성진 전 증권업협회장 별세…향년 98세 https://finance.naver.com/news/news_read.naver?article_id=0015154146&office_id=001&mode=mainnews&type=&date=2025-01-11&page=1 '증권업계 대부'로 불린 강성진 전 한국증권업협회장이 11일 숙환으로 별세했다. 향년 98세. 고인은 1927년 충남 예산에서 태어나 .. 연합뉴스 2025-01-11 17:59:26\n",
      "지난해 국내 증시 불안 속 대형 증권사는 웃었다 https://finance.naver.com/news/news_read.naver?article_id=0000071110&office_id=243&mode=mainnews&type=&date=2025-01-11&page=1 지난해 하반기 국내 증시의 부진에도 불구하고 4분기 대형 증권사들은 대체로 호실적을 거둔 것으로 나타났다. 11일 금융정보업체 에프앤가.. 이코노미스트 2025-01-11 17:41:07\n",
      "법인 가상자산 계좌 허용, 잠들어있던 거래소 코인 '눈길' https://finance.naver.com/news/news_read.naver?article_id=0000032358&office_id=648&mode=mainnews&type=&date=2025-01-11&page=1 금융당국이 법인의 가상자산 실명계좌 발급을 단계적으로 허용한다는 방침을 밝히면서 국내 가상자산거래소가 보유한 가상자산에 관심이 쏠린다... 비즈워치 2025-01-11 16:00:07\n",
      "“6월 정국 온다”···주가 ‘제대’로 달리는 하이브 https://finance.naver.com/news/news_read.naver?article_id=0005427341&office_id=009&mode=mainnews&type=&date=2025-01-11&page=1 BTS 멤버 정국 6월 제대로 완전체 기대감 ‘완전체 BTS’ 내년 하이브 매출 1조 기여 “동방신기나 빅뱅 사례보면 주가 급등할것” .. 매일경제 2025-01-11 15:36:16\n",
      "새해 ‘공모주 한파’ 풀릴까···상장 재도전 나선 기업들 다음 주 공모가 확정 [투자360] https://finance.naver.com/news/news_read.naver?article_id=0002414458&office_id=016&mode=mainnews&type=&date=2025-01-11&page=1 동방메티컬·오름테라퓨틱 상장 재추진 미트박스글로벌 등 5곳 일반 청약 [헤럴드경제=김민지 기자] 새해가 되자 움츠렸던 기업공개(IPO).. 헤럴드경제 2025-01-11 15:12:13\n",
      "LA 산불로 88조원 손실 추정…‘박찬호’ 자택도 전소 https://finance.naver.com/news/news_read.naver?article_id=0000071107&office_id=243&mode=mainnews&type=&date=2025-01-11&page=1 미국 캘리포니아주 로스앤젤레스(LA) 산불로 인한 경제적 타격이 88조원에 달할 것으로 추산되고 있다. 이번 산불로 ‘코리안 특급’ 박.. 이코노미스트 2025-01-11 15:03:10\n",
      "등 돌렸던 외국인 투자자 돌아왔다…'폭풍 매수'한 종목은? https://finance.naver.com/news/news_read.naver?article_id=0004438463&office_id=011&mode=mainnews&type=&date=2025-01-11&page=1 지난해 국내 주식시장에서 등을 돌렸던 외국인이 돌아왔다. 이들은 반도체, 방산, 조선주를 중심으로 매수에 나서고 있다. 10일 한국거래.. 서울경제 2025-01-11 13:52:13\n",
      "일론 머스크 말대로···中 맞서 무인기 도입하는 美해군 https://finance.naver.com/news/news_read.naver?article_id=0005427327&office_id=009&mode=mainnews&type=&date=2025-01-11&page=1 美7함대사령관 “AI 무인기 무인정 새로 도입···中위협 대응” 中은 유인기 중심 전력 증강···일론 머스크 “바보같은 짓” 사람 필요.. 매일경제 2025-01-11 13:51:10\n",
      "“30년뒤에 시총 3조달러”···‘젠슨황 악재’ 재해석한 아이온큐 韓창업자 https://finance.naver.com/news/news_read.naver?article_id=0005427322&office_id=009&mode=mainnews&type=&date=2025-01-11&page=1 양자컴퓨팅社 아이온큐 공동창엄자 김정상 교수 “젠슨황 발언으로 시장 가치 절반 날아가” 쓴웃음 “젠슨황 발언은 30년뒤 시총 3조弗 양.. 매일경제 2025-01-11 12:17:07\n",
      "업황 악화에 LG엔솔도 부진…위기의 LG화학[위클리 크레딧] https://finance.naver.com/news/news_read.naver?article_id=0005922886&office_id=018&mode=mainnews&type=&date=2025-01-11&page=1 이번주 크레딧 시장에서는 LG화학 등급 전망이 ‘부정적’으로 강등됐다. 한국신용평가는 NICE신용평가에 이어 롯데케미칼(011170) .. 이데일리 2025-01-11 11:38:10\n",
      "작년 죽 쓴 증시 새해에 오르자 연초 ‘빚투’ 2000억 증가···서학개미 선택은 ‘테슬라’ [투자360] https://finance.naver.com/news/news_read.naver?article_id=0002414429&office_id=016&mode=mainnews&type=&date=2025-01-11&page=1 신용잔고, 한 달 만에 16조원대로 반등 코스피, 지난 9일까지 5.10%·코스닥 6.68% 상승 서학개미 해외주식 순매수 1위는 테슬.. 헤럴드경제 2025-01-11 11:11:07\n",
      "젠슨 황이 뒤흔든 양자컴…\"성장 잠재력은 여전\" [투자의 재발견] https://finance.naver.com/news/news_read.naver?article_id=0001194852&office_id=215&mode=mainnews&type=&date=2025-01-11&page=1 ※ 한국경제TV는 급변하는 투자환경 속 신뢰할 수 있는 정보와 인사이트가 가득한 고품격 투자 콘텐츠, 을 매주 금요일 오후 5시 방송합.. 한국경제TV 2025-01-11 11:06:44\n",
      "美 고용강세에 금리인하 기대감↓…뉴욕 증시도 긴장 https://finance.naver.com/news/news_read.naver?article_id=0000071097&office_id=243&mode=mainnews&type=&date=2025-01-11&page=1 작년 말 미국의 고용지표가 예상 밖의 강한 모습을 보이면서 뉴욕증시 3대 지수가 일제히 하락했다. 금리인하 기대감이 후퇴하면서 증시 강.. 이코노미스트 2025-01-11 10:32:12\n",
      "“올라서 안도했는데 여전히 불안”···고점대비 -41% 양자컴 주식은 https://finance.naver.com/news/news_read.naver?article_id=0005427302&office_id=009&mode=mainnews&type=&date=2025-01-11&page=1 예상밖 고용 호조에 미국 증시 1%대 급락 올해 금리인하 가능성 낮아지며 기술주 ‘뚝’ 양자컴퓨터 대장주 아이온큐는 6.9% 반등 젠슨.. 매일경제 2025-01-11 10:09:10\n",
      "개미들 줄줄이 죽 쑤는데…1년 수익률 '16%' 펀드 뭐길래 [양병훈의 해외주식 꿀팁] https://finance.naver.com/news/news_read.naver?article_id=0005080847&office_id=015&mode=mainnews&type=&date=2025-01-11&page=1 이 기사는 국내 최대 해외 투자정보 플랫폼 한경 글로벌마켓에 게재된 기사입니다. 미국 채권에 투자한 사람들의 표정이 썩 좋지 않은 요즘.. 한국경제 2025-01-11 10:01:20\n",
      "반도체, 외인이 돌아왔다[증시 V자형 반등①] https://finance.naver.com/news/news_read.naver?article_id=0013010113&office_id=003&mode=mainnews&type=&date=2025-01-11&page=1 업황 우려로 부진했던 반도체 관련 매수세가 되살아나면서 올해도 반도체가 증시 주도주가 될 것이라는 전망이 고개를 들고 있다. 다만 외국.. 뉴시스 2025-01-11 10:00:00\n",
      "S&P500 상승 매일 1%까지 따라가며 월배당[ETF언박싱] https://finance.naver.com/news/news_read.naver?article_id=0005922852&office_id=018&mode=mainnews&type=&date=2025-01-11&page=1 미국 증시의 대표 지수인 S&P500이 최근 2년간 두자릿수 상승률을 기록한 데 이어 올해도 상승세를 이어갈 것이란 전망이 우세하다. .. 이데일리 2025-01-11 09:30:17\n"
     ]
    }
   ],
   "source": [
    "#2단계\n",
    "#1페이지 20개 뉴스 - 제목, 링크, 내용, 언론사, 날짜 출력하기\n",
    "import requests\n",
    "from bs4 import BeautifulSoup\n",
    "\n",
    "response =requests.get(\"https://finance.naver.com/news/mainnews.naver\")\n",
    "html=response.text\n",
    "soup=BeautifulSoup(html,'html.parser')\n",
    "\n",
    "articles=soup.select(\".block1\")\n",
    "for article in articles:\n",
    "    title=article.select_one(\".articleSubject>a\").text\n",
    "    link='https://finance.naver.com'+article.select_one(\".articleSubject>a\").attrs['href']\n",
    "    content=article.select_one(\".articleSummary\").contents[0].strip()\n",
    "    press=article.select_one(\".press\").text.strip()\n",
    "    date=article.select_one(\".wdate\").text\n",
    "    print(title,link,content,press,date)\n",
    "\n"
   ]
  },
  {
   "cell_type": "code",
   "execution_count": null,
   "metadata": {},
   "outputs": [
    {
     "name": "stdout",
     "output_type": "stream",
     "text": [
      "블랙박스에도 없는 '충돌 전 4분' 기록…참사 규명 장기화 우려 https://finance.naver.com/news/news_read.naver?article_id=0001866066&office_id=057&mode=mainnews&type=&date=2025-01-11&page=1 미국으로 보내 분석 중인 제주항공 참사 여객기 블랙박스에 충돌 전 마지막 4분간의 기록이 들어 있지 않은 것으로 확인됐습니다. 비행기록.. MBN 2025-01-11 20:09:08\n",
      "이지스운용 \"올 상업용 부동산 패러다임 전환 맞을 것\"[fn마켓워치] https://finance.naver.com/news/news_read.naver?article_id=0005294100&office_id=014&mode=mainnews&type=&date=2025-01-11&page=1 올해 국내 상업용 부동산 시장이 투자 구조와 주기 등 패러다임 전환을 맞을 것이라는 전망이 나왔다. 이지스자산운용은 ‘2025년 시장 .. 파이낸셜뉴스 2025-01-11 19:48:11\n",
      "\"역시 금이 최고야\"…'30% 껑충' 금 ETF 샀더니 https://finance.naver.com/news/news_read.naver?article_id=0005080889&office_id=015&mode=mainnews&type=&date=2025-01-11&page=1 글로벌 경제 불확실성이 커지면서 지난해에 이어 올해도 급값이 상승세를 이어갈 것이란 전망이 나온다. 금 투자는 은행 골드뱅킹(금 통장).. 한국경제 2025-01-11 19:25:11\n",
      "'증권업계 대부' 강성진 전 증권업협회장 별세…향년 98세 https://finance.naver.com/news/news_read.naver?article_id=0015154146&office_id=001&mode=mainnews&type=&date=2025-01-11&page=1 '증권업계 대부'로 불린 강성진 전 한국증권업협회장이 11일 숙환으로 별세했다. 향년 98세. 고인은 1927년 충남 예산에서 태어나 .. 연합뉴스 2025-01-11 17:59:26\n",
      "지난해 국내 증시 불안 속 대형 증권사는 웃었다 https://finance.naver.com/news/news_read.naver?article_id=0000071110&office_id=243&mode=mainnews&type=&date=2025-01-11&page=1 지난해 하반기 국내 증시의 부진에도 불구하고 4분기 대형 증권사들은 대체로 호실적을 거둔 것으로 나타났다. 11일 금융정보업체 에프앤가.. 이코노미스트 2025-01-11 17:41:07\n",
      "법인 가상자산 계좌 허용, 잠들어있던 거래소 코인 '눈길' https://finance.naver.com/news/news_read.naver?article_id=0000032358&office_id=648&mode=mainnews&type=&date=2025-01-11&page=1 금융당국이 법인의 가상자산 실명계좌 발급을 단계적으로 허용한다는 방침을 밝히면서 국내 가상자산거래소가 보유한 가상자산에 관심이 쏠린다... 비즈워치 2025-01-11 16:00:07\n",
      "“6월 정국 온다”···주가 ‘제대’로 달리는 하이브 https://finance.naver.com/news/news_read.naver?article_id=0005427341&office_id=009&mode=mainnews&type=&date=2025-01-11&page=1 BTS 멤버 정국 6월 제대로 완전체 기대감 ‘완전체 BTS’ 내년 하이브 매출 1조 기여 “동방신기나 빅뱅 사례보면 주가 급등할것” .. 매일경제 2025-01-11 15:36:16\n",
      "새해 ‘공모주 한파’ 풀릴까···상장 재도전 나선 기업들 다음 주 공모가 확정 [투자360] https://finance.naver.com/news/news_read.naver?article_id=0002414458&office_id=016&mode=mainnews&type=&date=2025-01-11&page=1 동방메티컬·오름테라퓨틱 상장 재추진 미트박스글로벌 등 5곳 일반 청약 [헤럴드경제=김민지 기자] 새해가 되자 움츠렸던 기업공개(IPO).. 헤럴드경제 2025-01-11 15:12:13\n",
      "LA 산불로 88조원 손실 추정…‘박찬호’ 자택도 전소 https://finance.naver.com/news/news_read.naver?article_id=0000071107&office_id=243&mode=mainnews&type=&date=2025-01-11&page=1 미국 캘리포니아주 로스앤젤레스(LA) 산불로 인한 경제적 타격이 88조원에 달할 것으로 추산되고 있다. 이번 산불로 ‘코리안 특급’ 박.. 이코노미스트 2025-01-11 15:03:10\n",
      "등 돌렸던 외국인 투자자 돌아왔다…'폭풍 매수'한 종목은? https://finance.naver.com/news/news_read.naver?article_id=0004438463&office_id=011&mode=mainnews&type=&date=2025-01-11&page=1 지난해 국내 주식시장에서 등을 돌렸던 외국인이 돌아왔다. 이들은 반도체, 방산, 조선주를 중심으로 매수에 나서고 있다. 10일 한국거래.. 서울경제 2025-01-11 13:52:13\n",
      "일론 머스크 말대로···中 맞서 무인기 도입하는 美해군 https://finance.naver.com/news/news_read.naver?article_id=0005427327&office_id=009&mode=mainnews&type=&date=2025-01-11&page=1 美7함대사령관 “AI 무인기 무인정 새로 도입···中위협 대응” 中은 유인기 중심 전력 증강···일론 머스크 “바보같은 짓” 사람 필요.. 매일경제 2025-01-11 13:51:10\n",
      "“30년뒤에 시총 3조달러”···‘젠슨황 악재’ 재해석한 아이온큐 韓창업자 https://finance.naver.com/news/news_read.naver?article_id=0005427322&office_id=009&mode=mainnews&type=&date=2025-01-11&page=1 양자컴퓨팅社 아이온큐 공동창엄자 김정상 교수 “젠슨황 발언으로 시장 가치 절반 날아가” 쓴웃음 “젠슨황 발언은 30년뒤 시총 3조弗 양.. 매일경제 2025-01-11 12:17:07\n",
      "업황 악화에 LG엔솔도 부진…위기의 LG화학[위클리 크레딧] https://finance.naver.com/news/news_read.naver?article_id=0005922886&office_id=018&mode=mainnews&type=&date=2025-01-11&page=1 이번주 크레딧 시장에서는 LG화학 등급 전망이 ‘부정적’으로 강등됐다. 한국신용평가는 NICE신용평가에 이어 롯데케미칼(011170) .. 이데일리 2025-01-11 11:38:10\n",
      "작년 죽 쓴 증시 새해에 오르자 연초 ‘빚투’ 2000억 증가···서학개미 선택은 ‘테슬라’ [투자360] https://finance.naver.com/news/news_read.naver?article_id=0002414429&office_id=016&mode=mainnews&type=&date=2025-01-11&page=1 신용잔고, 한 달 만에 16조원대로 반등 코스피, 지난 9일까지 5.10%·코스닥 6.68% 상승 서학개미 해외주식 순매수 1위는 테슬.. 헤럴드경제 2025-01-11 11:11:07\n",
      "젠슨 황이 뒤흔든 양자컴…\"성장 잠재력은 여전\" [투자의 재발견] https://finance.naver.com/news/news_read.naver?article_id=0001194852&office_id=215&mode=mainnews&type=&date=2025-01-11&page=1 ※ 한국경제TV는 급변하는 투자환경 속 신뢰할 수 있는 정보와 인사이트가 가득한 고품격 투자 콘텐츠, 을 매주 금요일 오후 5시 방송합.. 한국경제TV 2025-01-11 11:06:44\n",
      "美 고용강세에 금리인하 기대감↓…뉴욕 증시도 긴장 https://finance.naver.com/news/news_read.naver?article_id=0000071097&office_id=243&mode=mainnews&type=&date=2025-01-11&page=1 작년 말 미국의 고용지표가 예상 밖의 강한 모습을 보이면서 뉴욕증시 3대 지수가 일제히 하락했다. 금리인하 기대감이 후퇴하면서 증시 강.. 이코노미스트 2025-01-11 10:32:12\n",
      "“올라서 안도했는데 여전히 불안”···고점대비 -41% 양자컴 주식은 https://finance.naver.com/news/news_read.naver?article_id=0005427302&office_id=009&mode=mainnews&type=&date=2025-01-11&page=1 예상밖 고용 호조에 미국 증시 1%대 급락 올해 금리인하 가능성 낮아지며 기술주 ‘뚝’ 양자컴퓨터 대장주 아이온큐는 6.9% 반등 젠슨.. 매일경제 2025-01-11 10:09:10\n",
      "개미들 줄줄이 죽 쑤는데…1년 수익률 '16%' 펀드 뭐길래 [양병훈의 해외주식 꿀팁] https://finance.naver.com/news/news_read.naver?article_id=0005080847&office_id=015&mode=mainnews&type=&date=2025-01-11&page=1 이 기사는 국내 최대 해외 투자정보 플랫폼 한경 글로벌마켓에 게재된 기사입니다. 미국 채권에 투자한 사람들의 표정이 썩 좋지 않은 요즘.. 한국경제 2025-01-11 10:01:20\n",
      "반도체, 외인이 돌아왔다[증시 V자형 반등①] https://finance.naver.com/news/news_read.naver?article_id=0013010113&office_id=003&mode=mainnews&type=&date=2025-01-11&page=1 업황 우려로 부진했던 반도체 관련 매수세가 되살아나면서 올해도 반도체가 증시 주도주가 될 것이라는 전망이 고개를 들고 있다. 다만 외국.. 뉴시스 2025-01-11 10:00:00\n",
      "S&P500 상승 매일 1%까지 따라가며 월배당[ETF언박싱] https://finance.naver.com/news/news_read.naver?article_id=0005922852&office_id=018&mode=mainnews&type=&date=2025-01-11&page=1 미국 증시의 대표 지수인 S&P500이 최근 2년간 두자릿수 상승률을 기록한 데 이어 올해도 상승세를 이어갈 것이란 전망이 우세하다. .. 이데일리 2025-01-11 09:30:17\n",
      "미국 금리 인하 기대감 '뚝'…다우 1.63%↓ 마감 https://finance.naver.com/news/news_read.naver?article_id=0005531100&office_id=277&mode=mainnews&type=&date=2025-01-11&page=2 뉴욕증시의 3대 주가지수가 모두 급락했다. 12월 미국 비농업 부문 고용지표가 예상보다 더 뜨겁게 나오자 투자자들이 일제히 주식을 던진.. 아시아경제 2025-01-11 09:17:13\n",
      " '싼값' 빼고 호재 없어…실적 기대 줄하향[다음주 증시 전망] https://finance.naver.com/news/news_read.naver?article_id=0004438435&office_id=011&mode=mainnews&type=&date=2025-01-11&page=2 국내 주요 증권사들이 상장사 실적 하향 조정, 미국 도널드 트럼프 행정부 정책 불확실성 고조 등으로 다음 주에도 한국 주식시장이 횡보할.. 서울경제 2025-01-11 09:01:10\n",
      "우수한 입지와 상품성 갖춘 ‘더 팰리스트 데시앙’ 14일 1순위 청약 https://finance.naver.com/news/news_read.naver?article_id=0004438434&office_id=011&mode=mainnews&type=&date=2025-01-11&page=2 태영건설이 지난 1월 10일(금) 견본주택 문을 연 ‘더 팰리스트 데시앙’이 청약 일정에 돌입한다. 더 팰리스트 데시앙의 청약 일정은 .. 서울경제 2025-01-11 09:00:12\n",
      "“하루 만에 휴지조각”…날개 꺾인 양자컴퓨터, 베팅해도 될까[왓츠 유어 ETF] https://finance.naver.com/news/news_read.naver?article_id=0005922845&office_id=018&mode=mainnews&type=&date=2025-01-11&page=2 “만약 15년 안에 양자컴퓨터가 매우 유용한 수단이 될 것이라고 말한다면 이는 아마도 이른 축에 속할 것입니다” 젠슨 황 엔비디아 최고.. 이데일리 2025-01-11 09:00:12\n",
      "호실적 전망에 조선주 목표가 상향…K뷰티도 주목[청기홍기] https://finance.naver.com/news/news_read.naver?article_id=0000032349&office_id=648&mode=mainnews&type=&date=2025-01-11&page=2 이번주 증권가는 국내 조선 3사(삼성중공업·HD현대조선해양·한화오션)의 실적을 긍정적으로 전망하며 목표주가를 일제히 올렸다. 화장품 관.. 비즈워치 2025-01-11 09:00:10\n",
      " '공모주 한파'로 상장 일정 연기했던 기업들, 공모가 확정[IPO챗] https://finance.naver.com/news/news_read.naver?article_id=0015153894&office_id=001&mode=mainnews&type=&date=2025-01-11&page=2 동방메티컬·오름테라퓨틱 수요 예측…미트박스글로벌 등 5곳 일반 청약 다음 주(13∼17일)에는 공모주 시장 '한파'를 이유로 기업공개(.. 연합뉴스 2025-01-11 09:00:02\n",
      "다이어트와 자산관리의 공통점 [100세시대연구소의 경제수명 늘리기] https://finance.naver.com/news/news_read.naver?article_id=0004438431&office_id=011&mode=mainnews&type=&date=2025-01-11&page=2 2025년 청사(푸른 뱀)해 신년이 밝았다. 새해를 맞이하면 누구나 한 해 동안 이루고자 하는 목표를 세우거나 바라는 소원을 꿈꾼다. .. 서울경제 2025-01-11 08:31:10\n",
      "“우리 중국계 아닌데요”…‘중국 자본’ 꼬리표에 몸사리는 사모펀드 https://finance.naver.com/news/news_read.naver?article_id=0005922839&office_id=018&mode=mainnews&type=&date=2025-01-11&page=2 이 기사는 2025년01월11일 07시30분에 마켓인 프리미엄 콘텐츠로 선공개 되었습니다. 자본시장에 때아닌 ‘중국계’ 논란이 일고 있.. 이데일리 2025-01-11 08:30:15\n",
      "엔 연동 장기채 ETF 베팅했다 덜컥…1000억 날린 국내 투자자들 https://finance.naver.com/news/news_read.naver?article_id=0004438428&office_id=011&mode=mainnews&type=&date=2025-01-11&page=2 달러 자산의 금리가 급등하는 가운데 엔화마저 약세를 보이자 일본 화폐로 미국 장기채에 투자하는 상장지수펀드(ETF)들의 수익률이 최근 .. 서울경제 2025-01-11 08:01:20\n",
      "\"메타와 손잡고 날개달까\"…이베이, 주가 3년래 최고 수준 https://finance.naver.com/news/news_read.naver?article_id=0005922835&office_id=018&mode=mainnews&type=&date=2025-01-11&page=2 미국의 전자상거래 기업 이베이(eBay, 티커명 EBAY) 주가가 최근 메타플랫폼스(Meta Platforms)와의 협력 가능성 소식에.. 이데일리 2025-01-11 08:01:16\n",
      "라스베이거스 중심에 서다, ‘30만닉스’ 기대 키운 최태원[증시핫피플] https://finance.naver.com/news/news_read.naver?article_id=0005922834&office_id=018&mode=mainnews&type=&date=2025-01-11&page=2 “어려움을 알면서도 행동으로 옮기는 용기, ‘지난이행’(知難而行)의 마음가짐이 필요하다.” 최태원 SK그룹 회장이 2025년을 맞아 그.. 이데일리 2025-01-11 08:01:14\n",
      "1월 둘째 주, 마켓PRO 핫종목·주요 이슈 5분 완벽정리 [위클리 리뷰] https://finance.naver.com/news/news_read.naver?article_id=0005080835&office_id=015&mode=mainnews&type=&date=2025-01-11&page=2 ※한경 마켓PRO는 한 주간 짚어본 종목·투자 전략을 돌아보는 '마켓PRO 위클리 리뷰' 코너를 운영 중입니다. 한경 마켓PRO는 어디.. 한국경제 2025-01-11 08:01:12\n",
      "최수안 엘앤에프 대표 “올해 마지막 위기 돌파…2026년부터 본격 성장” https://finance.naver.com/news/news_read.naver?article_id=0004438424&office_id=011&mode=mainnews&type=&date=2025-01-11&page=2 배터리 소재 전문기업 엘앤에프(066970)가 2025년을 기술혁신과 조직 역량 강화의 원년으로 삼고, 지속가능한 성장 실현에 나선다... 서울경제 2025-01-11 08:01:10\n",
      " 작년 죽 쒔던 증시 살아나나…새해 '빚투' 2천억 증가[머니플로우] https://finance.naver.com/news/news_read.naver?article_id=0015153856&office_id=001&mode=mainnews&type=&date=2025-01-11&page=2 신용잔고 16조원대로…서학개미 해외주식 순매수 1위는 테슬라 새해 들어 국내 증시가 반등할 기미를 보이면서 빚을 내서 투자하는 '빚투'.. 연합뉴스 2025-01-11 08:00:03\n",
      "하이브·KT·SOOP[유안타證 주간추천주] https://finance.naver.com/news/news_read.naver?article_id=0005922827&office_id=018&mode=mainnews&type=&date=2025-01-11&page=2 △하이브(352820) -2025년 BTS 완전체 컴백 모멘텀 부각 기대 -플랫폼(구독 모델 도입) 수익화에 따른 실적 개선 전망 -현.. 이데일리 2025-01-11 07:47:06\n",
      "국장 암울했는데…'6곳 중 5곳' 실적 웃었다 https://finance.naver.com/news/news_read.naver?article_id=0001194837&office_id=215&mode=mainnews&type=&date=2025-01-11&page=2 작년 하반기 국내 증시는 부진했지만 증권사들은 4분기 호실적을 낸 것으로 드러났다. 지난 10일 기준 3곳 이상의 증권사가 추정치를 내.. 한국경제TV 2025-01-11 07:34:08\n",
      "CES가 열고 젠슨 황이 달군 이번 주···정작 엔비디아 주가는 하락? 관련株 ‘들썩’ [투자360] https://finance.naver.com/news/news_read.naver?article_id=0002414385&office_id=016&mode=mainnews&type=&date=2025-01-11&page=2 1월 7일~10일(현지시간) CES 개최 젠슨 황 발언에 SK하이닉스·삼성전자 주가 출렁 “양자컴 상용화 20년 뒤” 발언에 관련주 급.. 헤럴드경제 2025-01-11 07:31:10\n",
      "美 금리 인하 기대감 '뚝'…3대 주가지수 급락 [뉴욕증시 브리핑] https://finance.naver.com/news/news_read.naver?article_id=0005080831&office_id=015&mode=mainnews&type=&date=2025-01-11&page=2 뉴욕증시의 3대 주가지수가 모두 급락했다. 12월 미국 비농업 부문 고용지표가 예상보다 더 뜨겁게 나오자 투자자들이 일제히 주식을 던진.. 한국경제 2025-01-11 07:26:15\n",
      "뜨거운 美고용에 증시 ‘찬물’…10년물 금리 4.76%[월스트리트in] https://finance.naver.com/news/news_read.naver?article_id=0005922824&office_id=018&mode=mainnews&type=&date=2025-01-11&page=2 뉴욕증시 3대지수가 일제히 하락 마감했다. 예상보다 강한 고용지표에 연방준비제도의 금리인하에 속도조절이 불가피하다는 관측이 강화됐다. .. 이데일리 2025-01-11 07:20:14\n",
      "SK하이닉스·두산밥캣·에이치브이엠[하나證 주간추천주] https://finance.naver.com/news/news_read.naver?article_id=0005922821&office_id=018&mode=mainnews&type=&date=2025-01-11&page=2 △SK하이닉스(000660) -3분기 매출액은 전년 동기 대비 94% 증가한 17조 6000억원, 영업이익은 흑자전환한 7조원 기록. .. 이데일리 2025-01-11 07:01:14\n",
      "\"'이재명 테마주' 아냐?\" 화들짝…두 달 새 주가 폭등한 종목 [윤현주의 主食이 주식] https://finance.naver.com/news/news_read.naver?article_id=0005080829&office_id=015&mode=mainnews&type=&date=2025-01-11&page=3 정치 테마주도 아닌데, 회사 이름이 비슷해서 주가가 폭등했나. ‘이재명 테마주’로 불리는 오리엔트정공이 두 달여(2024년 11월 6일.. 한국경제 2025-01-11 07:01:12\n",
      "올해도 변동장…수익률 방어 전략은 단일종목·중소형株 ETF https://finance.naver.com/news/news_read.naver?article_id=0002912738&office_id=119&mode=mainnews&type=&date=2025-01-11&page=3 작년에 이어 올해도 주식시장이 큰 변동성을 나타낼 것으로 보이는 가운데 상장지수펀드(ETF) 투자 전략에도 변화가 필요하다는 관측이 나.. 데일리안 2025-01-11 07:00:12\n",
      "KB·한투운용 ETF 수장 ‘공백’…3위 판도 ‘예측불가’ https://finance.naver.com/news/news_read.naver?article_id=0002912737&office_id=119&mode=mainnews&type=&date=2025-01-11&page=3 국내 상장지수펀드(ETF) 점유율 3위 자리를 두고 경쟁을 벌이는 KB자산운용과 한국투자신탁운용이 연초부터 ETF 수장 ‘공백’ 위기에.. 데일리안 2025-01-11 07:00:10\n",
      "글로벌 경제 불확실성 속, 빛나는 한국 증시의 반등 가능성 [박문환 시선집중] https://finance.naver.com/news/news_read.naver?article_id=0001194834&office_id=215&mode=mainnews&type=&date=2025-01-11&page=3 최근 외환 위기설이 제기되며 글로벌 경제와 한국 증시에 대한 우려가 커지고 있다. 그러나 전문가들은 이를 지나치게 걱정하기보다, 현재의.. 한국경제TV 2025-01-11 07:00:00\n",
      "'12월 수익률 30%' 투자왕들, 계엄사태 속 이 상품 담았다 https://finance.naver.com/news/news_read.naver?article_id=0005139708&office_id=008&mode=mainnews&type=&date=2025-01-11&page=3 예상하지 못한 비상계엄 선포와 탄핵 사태로 지난 12월 국내 주식 시장은 어마어마한 후폭풍에 시달렸다. 환율 폭등과 외국인 투자자 탈출.. 머니투데이 2025-01-11 07:00:00\n",
      "\"더 이상 사과는 없다\" 저커버그는 왜 8년 새 달라졌을까 https://finance.naver.com/news/news_read.naver?article_id=0005531086&office_id=277&mode=mainnews&type=&date=2025-01-11&page=3 우리는 가짜정보를 심각하게 받아들입니다. 사람들이 정확한 정보를 원한다는 걸 알고 있고, 이에 대한 책임을 심각하게 받아들이고 있습니다.. 아시아경제 2025-01-11 07:00:00\n",
      "젠슨 황·머스크도 푹 빠졌다…\"휴머노이드 로봇 폭발적 성장\"[대만칩통신] https://finance.naver.com/news/news_read.naver?article_id=0005531084&office_id=277&mode=mainnews&type=&date=2025-01-11&page=3 휴머노이드 로봇이 글로벌 투자자들 최대 화두로 떠올랐다. 젠슨 황 엔비디아 최고경영자(CEO), 일론 머스크 테슬라 CEO, 웨이저자 .. 아시아경제 2025-01-11 07:00:00\n",
      "'최강 추위'에 관련주 '후끈'… 한파 수혜주 뭐가 있나 https://finance.naver.com/news/news_read.naver?article_id=0001051229&office_id=417&mode=mainnews&type=&date=2025-01-11&page=3 영하 18도 안팎을 기록하는 '최강 한파'가 이어지며 한파 관련주가 주목받고 있다. 11일 한국거래소에 따르면 지난 10일 난방 관련주.. 머니S 2025-01-11 06:38:00\n",
      "애플, 아이폰 16 판매 부진에도 여전히 긍정적 https://finance.naver.com/news/news_read.naver?article_id=0005922815&office_id=018&mode=mainnews&type=&date=2025-01-11&page=3 아이폰 16 판매량에 대한 컨센서스가 하향 조정되고 있으나 시장에서는 여전히 중장기적으로 애플(Apple)에 대해 긍정적인 시각을 유지.. 이데일리 2025-01-11 06:31:09\n",
      "\"동네 물 싹쓸이\" 테슬라, 리튬공장 위한 용수 찾기에 총력 https://finance.naver.com/news/news_read.naver?article_id=0005531072&office_id=277&mode=mainnews&type=&date=2025-01-11&page=3 세계 최대 전기차 회사인 테슬라가 미국 텍사스 리튬 정제공장 가동을 앞두고 용수 확보에 총력을 기울이고 있다. 공장을 가동하기 위해서는.. 아시아경제 2025-01-11 06:30:00\n",
      " 트럼프가 싫어하는 대마 재배시설 NO, 데이터센터 OK… 미국 리츠 고르는 법[美드캡 탐구] https://finance.naver.com/news/news_read.naver?article_id=0001046543&office_id=366&mode=mainnews&type=&date=2025-01-11&page=3 금리 인하 기대 줄어 리츠주 조정 받았지만 투자 자산 성격에 따라 리츠주 차별화 움직임 국내 투자자가 보유한 미국 주식 규모가 150조.. 조선비즈 2025-01-11 06:02:11\n",
      "“이거 하라고 유치했는데”… 주가조작 의혹까지 받은 한 외국계 증권사 https://finance.naver.com/news/news_read.naver?article_id=0001046533&office_id=366&mode=mainnews&type=&date=2025-01-11&page=3 한국IMC증권, 거래량 부진한 종목에 유동성 공급하는 ‘시장조성자’ 역할 유가증권시장에 상장된 제약회사 일성아이에스는 새해 들어 거래량.. 조선비즈 2025-01-11 06:01:16\n",
      "LG CNS, 빠른 신고서 약됐다?…피어그룹 주가 날고 맥쿼리PE 엑시트 ‘기대’[투자360] https://finance.naver.com/news/news_read.naver?article_id=0002414377&office_id=016&mode=mainnews&type=&date=2025-01-11&page=3 삼성SDS 제외 현대오토·NTT 상승세 할인 매력 부각, 1조 ‘빅딜’ 주관사단 탄탄 구주매출로 최대 6000억 회수, 추가 수익도 가.. 헤럴드경제 2025-01-11 06:00:15\n",
      "\"이 주식, 일단 담아\" 돌아온 외인 '폭풍 매수'…뭐 샀나 보니 https://finance.naver.com/news/news_read.naver?article_id=0005139701&office_id=008&mode=mainnews&type=&date=2025-01-11&page=3 지난해 국내 주식시장에서 등을 돌리며 지수 하락을 주도했던 외국인이 돌아왔다. 올해 들어서는 매수세를 보이고 있는 것인데 반도체, 방산.. 머니투데이 2025-01-11 06:00:00\n",
      "\"엔비디아 지고 '이 주식' 뜬다\"…주목할 美주식은?[부꾸미] https://finance.naver.com/news/news_read.naver?article_id=0005139693&office_id=008&mode=mainnews&type=&date=2025-01-11&page=3 2025년에도 인공지능(AI)을 중심으로 한 미국 증시의 강세가 이어질 것이란 전망이 나온다. 지속된 주가 상승으로 밸류에이션(실적 대.. 머니투데이 2025-01-11 03:30:00\n",
      "뉴욕증시, 예상보다 뜨거운 고용·금리동결 가능성↑…급락 출발 https://finance.naver.com/news/news_read.naver?article_id=0015153778&office_id=001&mode=mainnews&type=&date=2025-01-11&page=3 김 현 연합인포맥스 통신원 = 뉴욕증시는 시장 예상을 크게 웃돈 주요 고용지표가 연방준비제도(Fed·연준)의 금리 인하 행보 중단 가능.. 연합뉴스 2025-01-11 01:08:36\n",
      " 어피니티, 중국 자본 루머 부인…\"BYD 협력 사실무근\"[주간사모펀드] https://finance.naver.com/news/news_read.naver?article_id=0000355665&office_id=629&mode=mainnews&type=&date=2025-01-11&page=3 한앤코, 1500억대 SK플라즈마 딜 클로징 제이앤PE, 현대힘스 매각하나 국내 사모펀드(PEF) 운용사 어피티니에쿼티파트너스(어피니티.. 더팩트 2025-01-11 00:01:33\n"
     ]
    }
   ],
   "source": [
    "#3단계\n",
    "#1page~마지막페이지까지 크롤링하기\n",
    "#힌트)맨뒤 버튼의 유므 확인해서 반복 멈추기\n",
    "import requests\n",
    "from bs4 import BeautifulSoup\n",
    "\n",
    "for i in range(1,1000):\n",
    "    response =requests.get(f\"https://finance.naver.com/news/mainnews.naver?&page={i}\")\n",
    "    html=response.text\n",
    "    soup=BeautifulSoup(html,'html.parser')\n",
    "\n",
    "    articles=soup.select(\".block1\")\n",
    "    for article in articles:\n",
    "        title=article.select_one(\".articleSubject>a\").text\n",
    "        link='https://finance.naver.com'+article.select_one(\".articleSubject>a\").attrs['href']\n",
    "        content=article.select_one(\".articleSummary\").contents[0].strip()\n",
    "        press=article.select_one(\".press\").text.strip()\n",
    "        date=article.select_one(\".wdate\").text\n",
    "        print(title,link,content,press,date)\n",
    "\n",
    "    #마지막 페이지 체크\n",
    "    if soup.select_one(\".pgRR\") == None:\n",
    "        break"
   ]
  },
  {
   "cell_type": "code",
   "execution_count": 33,
   "metadata": {},
   "outputs": [
    {
     "name": "stdout",
     "output_type": "stream",
     "text": [
      "블랙박스에도 없는 '충돌 전 4분' 기록…참사 규명 장기화 우려 https://finance.naver.com/news/news_read.naver?article_id=0001866066&office_id=057&mode=mainnews&type=&date=2025-01-11&page=1 미국으로 보내 분석 중인 제주항공 참사 여객기 블랙박스에 충돌 전 마지막 4분간의 기록이 들어 있지 않은 것으로 확인됐습니다. 비행기록.. MBN 2025-01-11 20:09:08\n",
      "이지스운용 \"올 상업용 부동산 패러다임 전환 맞을 것\"[fn마켓워치] https://finance.naver.com/news/news_read.naver?article_id=0005294100&office_id=014&mode=mainnews&type=&date=2025-01-11&page=1 올해 국내 상업용 부동산 시장이 투자 구조와 주기 등 패러다임 전환을 맞을 것이라는 전망이 나왔다. 이지스자산운용은 ‘2025년 시장 .. 파이낸셜뉴스 2025-01-11 19:48:11\n",
      "\"역시 금이 최고야\"…'30% 껑충' 금 ETF 샀더니 https://finance.naver.com/news/news_read.naver?article_id=0005080889&office_id=015&mode=mainnews&type=&date=2025-01-11&page=1 글로벌 경제 불확실성이 커지면서 지난해에 이어 올해도 급값이 상승세를 이어갈 것이란 전망이 나온다. 금 투자는 은행 골드뱅킹(금 통장).. 한국경제 2025-01-11 19:25:11\n",
      "'증권업계 대부' 강성진 전 증권업협회장 별세…향년 98세 https://finance.naver.com/news/news_read.naver?article_id=0015154146&office_id=001&mode=mainnews&type=&date=2025-01-11&page=1 '증권업계 대부'로 불린 강성진 전 한국증권업협회장이 11일 숙환으로 별세했다. 향년 98세. 고인은 1927년 충남 예산에서 태어나 .. 연합뉴스 2025-01-11 17:59:26\n",
      "지난해 국내 증시 불안 속 대형 증권사는 웃었다 https://finance.naver.com/news/news_read.naver?article_id=0000071110&office_id=243&mode=mainnews&type=&date=2025-01-11&page=1 지난해 하반기 국내 증시의 부진에도 불구하고 4분기 대형 증권사들은 대체로 호실적을 거둔 것으로 나타났다. 11일 금융정보업체 에프앤가.. 이코노미스트 2025-01-11 17:41:07\n",
      "법인 가상자산 계좌 허용, 잠들어있던 거래소 코인 '눈길' https://finance.naver.com/news/news_read.naver?article_id=0000032358&office_id=648&mode=mainnews&type=&date=2025-01-11&page=1 금융당국이 법인의 가상자산 실명계좌 발급을 단계적으로 허용한다는 방침을 밝히면서 국내 가상자산거래소가 보유한 가상자산에 관심이 쏠린다... 비즈워치 2025-01-11 16:00:07\n",
      "“6월 정국 온다”···주가 ‘제대’로 달리는 하이브 https://finance.naver.com/news/news_read.naver?article_id=0005427341&office_id=009&mode=mainnews&type=&date=2025-01-11&page=1 BTS 멤버 정국 6월 제대로 완전체 기대감 ‘완전체 BTS’ 내년 하이브 매출 1조 기여 “동방신기나 빅뱅 사례보면 주가 급등할것” .. 매일경제 2025-01-11 15:36:16\n",
      "새해 ‘공모주 한파’ 풀릴까···상장 재도전 나선 기업들 다음 주 공모가 확정 [투자360] https://finance.naver.com/news/news_read.naver?article_id=0002414458&office_id=016&mode=mainnews&type=&date=2025-01-11&page=1 동방메티컬·오름테라퓨틱 상장 재추진 미트박스글로벌 등 5곳 일반 청약 [헤럴드경제=김민지 기자] 새해가 되자 움츠렸던 기업공개(IPO).. 헤럴드경제 2025-01-11 15:12:13\n",
      "LA 산불로 88조원 손실 추정…‘박찬호’ 자택도 전소 https://finance.naver.com/news/news_read.naver?article_id=0000071107&office_id=243&mode=mainnews&type=&date=2025-01-11&page=1 미국 캘리포니아주 로스앤젤레스(LA) 산불로 인한 경제적 타격이 88조원에 달할 것으로 추산되고 있다. 이번 산불로 ‘코리안 특급’ 박.. 이코노미스트 2025-01-11 15:03:10\n",
      "등 돌렸던 외국인 투자자 돌아왔다…'폭풍 매수'한 종목은? https://finance.naver.com/news/news_read.naver?article_id=0004438463&office_id=011&mode=mainnews&type=&date=2025-01-11&page=1 지난해 국내 주식시장에서 등을 돌렸던 외국인이 돌아왔다. 이들은 반도체, 방산, 조선주를 중심으로 매수에 나서고 있다. 10일 한국거래.. 서울경제 2025-01-11 13:52:13\n",
      "일론 머스크 말대로···中 맞서 무인기 도입하는 美해군 https://finance.naver.com/news/news_read.naver?article_id=0005427327&office_id=009&mode=mainnews&type=&date=2025-01-11&page=1 美7함대사령관 “AI 무인기 무인정 새로 도입···中위협 대응” 中은 유인기 중심 전력 증강···일론 머스크 “바보같은 짓” 사람 필요.. 매일경제 2025-01-11 13:51:10\n",
      "“30년뒤에 시총 3조달러”···‘젠슨황 악재’ 재해석한 아이온큐 韓창업자 https://finance.naver.com/news/news_read.naver?article_id=0005427322&office_id=009&mode=mainnews&type=&date=2025-01-11&page=1 양자컴퓨팅社 아이온큐 공동창엄자 김정상 교수 “젠슨황 발언으로 시장 가치 절반 날아가” 쓴웃음 “젠슨황 발언은 30년뒤 시총 3조弗 양.. 매일경제 2025-01-11 12:17:07\n",
      "업황 악화에 LG엔솔도 부진…위기의 LG화학[위클리 크레딧] https://finance.naver.com/news/news_read.naver?article_id=0005922886&office_id=018&mode=mainnews&type=&date=2025-01-11&page=1 이번주 크레딧 시장에서는 LG화학 등급 전망이 ‘부정적’으로 강등됐다. 한국신용평가는 NICE신용평가에 이어 롯데케미칼(011170) .. 이데일리 2025-01-11 11:38:10\n",
      "작년 죽 쓴 증시 새해에 오르자 연초 ‘빚투’ 2000억 증가···서학개미 선택은 ‘테슬라’ [투자360] https://finance.naver.com/news/news_read.naver?article_id=0002414429&office_id=016&mode=mainnews&type=&date=2025-01-11&page=1 신용잔고, 한 달 만에 16조원대로 반등 코스피, 지난 9일까지 5.10%·코스닥 6.68% 상승 서학개미 해외주식 순매수 1위는 테슬.. 헤럴드경제 2025-01-11 11:11:07\n",
      "젠슨 황이 뒤흔든 양자컴…\"성장 잠재력은 여전\" [투자의 재발견] https://finance.naver.com/news/news_read.naver?article_id=0001194852&office_id=215&mode=mainnews&type=&date=2025-01-11&page=1 ※ 한국경제TV는 급변하는 투자환경 속 신뢰할 수 있는 정보와 인사이트가 가득한 고품격 투자 콘텐츠, 을 매주 금요일 오후 5시 방송합.. 한국경제TV 2025-01-11 11:06:44\n",
      "美 고용강세에 금리인하 기대감↓…뉴욕 증시도 긴장 https://finance.naver.com/news/news_read.naver?article_id=0000071097&office_id=243&mode=mainnews&type=&date=2025-01-11&page=1 작년 말 미국의 고용지표가 예상 밖의 강한 모습을 보이면서 뉴욕증시 3대 지수가 일제히 하락했다. 금리인하 기대감이 후퇴하면서 증시 강.. 이코노미스트 2025-01-11 10:32:12\n",
      "“올라서 안도했는데 여전히 불안”···고점대비 -41% 양자컴 주식은 https://finance.naver.com/news/news_read.naver?article_id=0005427302&office_id=009&mode=mainnews&type=&date=2025-01-11&page=1 예상밖 고용 호조에 미국 증시 1%대 급락 올해 금리인하 가능성 낮아지며 기술주 ‘뚝’ 양자컴퓨터 대장주 아이온큐는 6.9% 반등 젠슨.. 매일경제 2025-01-11 10:09:10\n",
      "개미들 줄줄이 죽 쑤는데…1년 수익률 '16%' 펀드 뭐길래 [양병훈의 해외주식 꿀팁] https://finance.naver.com/news/news_read.naver?article_id=0005080847&office_id=015&mode=mainnews&type=&date=2025-01-11&page=1 이 기사는 국내 최대 해외 투자정보 플랫폼 한경 글로벌마켓에 게재된 기사입니다. 미국 채권에 투자한 사람들의 표정이 썩 좋지 않은 요즘.. 한국경제 2025-01-11 10:01:20\n",
      "반도체, 외인이 돌아왔다[증시 V자형 반등①] https://finance.naver.com/news/news_read.naver?article_id=0013010113&office_id=003&mode=mainnews&type=&date=2025-01-11&page=1 업황 우려로 부진했던 반도체 관련 매수세가 되살아나면서 올해도 반도체가 증시 주도주가 될 것이라는 전망이 고개를 들고 있다. 다만 외국.. 뉴시스 2025-01-11 10:00:00\n",
      "S&P500 상승 매일 1%까지 따라가며 월배당[ETF언박싱] https://finance.naver.com/news/news_read.naver?article_id=0005922852&office_id=018&mode=mainnews&type=&date=2025-01-11&page=1 미국 증시의 대표 지수인 S&P500이 최근 2년간 두자릿수 상승률을 기록한 데 이어 올해도 상승세를 이어갈 것이란 전망이 우세하다. .. 이데일리 2025-01-11 09:30:17\n",
      "미국 금리 인하 기대감 '뚝'…다우 1.63%↓ 마감 https://finance.naver.com/news/news_read.naver?article_id=0005531100&office_id=277&mode=mainnews&type=&date=2025-01-11&page=2 뉴욕증시의 3대 주가지수가 모두 급락했다. 12월 미국 비농업 부문 고용지표가 예상보다 더 뜨겁게 나오자 투자자들이 일제히 주식을 던진.. 아시아경제 2025-01-11 09:17:13\n",
      " '싼값' 빼고 호재 없어…실적 기대 줄하향[다음주 증시 전망] https://finance.naver.com/news/news_read.naver?article_id=0004438435&office_id=011&mode=mainnews&type=&date=2025-01-11&page=2 국내 주요 증권사들이 상장사 실적 하향 조정, 미국 도널드 트럼프 행정부 정책 불확실성 고조 등으로 다음 주에도 한국 주식시장이 횡보할.. 서울경제 2025-01-11 09:01:10\n",
      "우수한 입지와 상품성 갖춘 ‘더 팰리스트 데시앙’ 14일 1순위 청약 https://finance.naver.com/news/news_read.naver?article_id=0004438434&office_id=011&mode=mainnews&type=&date=2025-01-11&page=2 태영건설이 지난 1월 10일(금) 견본주택 문을 연 ‘더 팰리스트 데시앙’이 청약 일정에 돌입한다. 더 팰리스트 데시앙의 청약 일정은 .. 서울경제 2025-01-11 09:00:12\n",
      "“하루 만에 휴지조각”…날개 꺾인 양자컴퓨터, 베팅해도 될까[왓츠 유어 ETF] https://finance.naver.com/news/news_read.naver?article_id=0005922845&office_id=018&mode=mainnews&type=&date=2025-01-11&page=2 “만약 15년 안에 양자컴퓨터가 매우 유용한 수단이 될 것이라고 말한다면 이는 아마도 이른 축에 속할 것입니다” 젠슨 황 엔비디아 최고.. 이데일리 2025-01-11 09:00:12\n",
      "호실적 전망에 조선주 목표가 상향…K뷰티도 주목[청기홍기] https://finance.naver.com/news/news_read.naver?article_id=0000032349&office_id=648&mode=mainnews&type=&date=2025-01-11&page=2 이번주 증권가는 국내 조선 3사(삼성중공업·HD현대조선해양·한화오션)의 실적을 긍정적으로 전망하며 목표주가를 일제히 올렸다. 화장품 관.. 비즈워치 2025-01-11 09:00:10\n",
      " '공모주 한파'로 상장 일정 연기했던 기업들, 공모가 확정[IPO챗] https://finance.naver.com/news/news_read.naver?article_id=0015153894&office_id=001&mode=mainnews&type=&date=2025-01-11&page=2 동방메티컬·오름테라퓨틱 수요 예측…미트박스글로벌 등 5곳 일반 청약 다음 주(13∼17일)에는 공모주 시장 '한파'를 이유로 기업공개(.. 연합뉴스 2025-01-11 09:00:02\n",
      "다이어트와 자산관리의 공통점 [100세시대연구소의 경제수명 늘리기] https://finance.naver.com/news/news_read.naver?article_id=0004438431&office_id=011&mode=mainnews&type=&date=2025-01-11&page=2 2025년 청사(푸른 뱀)해 신년이 밝았다. 새해를 맞이하면 누구나 한 해 동안 이루고자 하는 목표를 세우거나 바라는 소원을 꿈꾼다. .. 서울경제 2025-01-11 08:31:10\n",
      "“우리 중국계 아닌데요”…‘중국 자본’ 꼬리표에 몸사리는 사모펀드 https://finance.naver.com/news/news_read.naver?article_id=0005922839&office_id=018&mode=mainnews&type=&date=2025-01-11&page=2 이 기사는 2025년01월11일 07시30분에 마켓인 프리미엄 콘텐츠로 선공개 되었습니다. 자본시장에 때아닌 ‘중국계’ 논란이 일고 있.. 이데일리 2025-01-11 08:30:15\n",
      "엔 연동 장기채 ETF 베팅했다 덜컥…1000억 날린 국내 투자자들 https://finance.naver.com/news/news_read.naver?article_id=0004438428&office_id=011&mode=mainnews&type=&date=2025-01-11&page=2 달러 자산의 금리가 급등하는 가운데 엔화마저 약세를 보이자 일본 화폐로 미국 장기채에 투자하는 상장지수펀드(ETF)들의 수익률이 최근 .. 서울경제 2025-01-11 08:01:20\n",
      "\"메타와 손잡고 날개달까\"…이베이, 주가 3년래 최고 수준 https://finance.naver.com/news/news_read.naver?article_id=0005922835&office_id=018&mode=mainnews&type=&date=2025-01-11&page=2 미국의 전자상거래 기업 이베이(eBay, 티커명 EBAY) 주가가 최근 메타플랫폼스(Meta Platforms)와의 협력 가능성 소식에.. 이데일리 2025-01-11 08:01:16\n",
      "라스베이거스 중심에 서다, ‘30만닉스’ 기대 키운 최태원[증시핫피플] https://finance.naver.com/news/news_read.naver?article_id=0005922834&office_id=018&mode=mainnews&type=&date=2025-01-11&page=2 “어려움을 알면서도 행동으로 옮기는 용기, ‘지난이행’(知難而行)의 마음가짐이 필요하다.” 최태원 SK그룹 회장이 2025년을 맞아 그.. 이데일리 2025-01-11 08:01:14\n",
      "1월 둘째 주, 마켓PRO 핫종목·주요 이슈 5분 완벽정리 [위클리 리뷰] https://finance.naver.com/news/news_read.naver?article_id=0005080835&office_id=015&mode=mainnews&type=&date=2025-01-11&page=2 ※한경 마켓PRO는 한 주간 짚어본 종목·투자 전략을 돌아보는 '마켓PRO 위클리 리뷰' 코너를 운영 중입니다. 한경 마켓PRO는 어디.. 한국경제 2025-01-11 08:01:12\n",
      "최수안 엘앤에프 대표 “올해 마지막 위기 돌파…2026년부터 본격 성장” https://finance.naver.com/news/news_read.naver?article_id=0004438424&office_id=011&mode=mainnews&type=&date=2025-01-11&page=2 배터리 소재 전문기업 엘앤에프(066970)가 2025년을 기술혁신과 조직 역량 강화의 원년으로 삼고, 지속가능한 성장 실현에 나선다... 서울경제 2025-01-11 08:01:10\n",
      " 작년 죽 쒔던 증시 살아나나…새해 '빚투' 2천억 증가[머니플로우] https://finance.naver.com/news/news_read.naver?article_id=0015153856&office_id=001&mode=mainnews&type=&date=2025-01-11&page=2 신용잔고 16조원대로…서학개미 해외주식 순매수 1위는 테슬라 새해 들어 국내 증시가 반등할 기미를 보이면서 빚을 내서 투자하는 '빚투'.. 연합뉴스 2025-01-11 08:00:03\n",
      "하이브·KT·SOOP[유안타證 주간추천주] https://finance.naver.com/news/news_read.naver?article_id=0005922827&office_id=018&mode=mainnews&type=&date=2025-01-11&page=2 △하이브(352820) -2025년 BTS 완전체 컴백 모멘텀 부각 기대 -플랫폼(구독 모델 도입) 수익화에 따른 실적 개선 전망 -현.. 이데일리 2025-01-11 07:47:06\n",
      "국장 암울했는데…'6곳 중 5곳' 실적 웃었다 https://finance.naver.com/news/news_read.naver?article_id=0001194837&office_id=215&mode=mainnews&type=&date=2025-01-11&page=2 작년 하반기 국내 증시는 부진했지만 증권사들은 4분기 호실적을 낸 것으로 드러났다. 지난 10일 기준 3곳 이상의 증권사가 추정치를 내.. 한국경제TV 2025-01-11 07:34:08\n",
      "CES가 열고 젠슨 황이 달군 이번 주···정작 엔비디아 주가는 하락? 관련株 ‘들썩’ [투자360] https://finance.naver.com/news/news_read.naver?article_id=0002414385&office_id=016&mode=mainnews&type=&date=2025-01-11&page=2 1월 7일~10일(현지시간) CES 개최 젠슨 황 발언에 SK하이닉스·삼성전자 주가 출렁 “양자컴 상용화 20년 뒤” 발언에 관련주 급.. 헤럴드경제 2025-01-11 07:31:10\n",
      "美 금리 인하 기대감 '뚝'…3대 주가지수 급락 [뉴욕증시 브리핑] https://finance.naver.com/news/news_read.naver?article_id=0005080831&office_id=015&mode=mainnews&type=&date=2025-01-11&page=2 뉴욕증시의 3대 주가지수가 모두 급락했다. 12월 미국 비농업 부문 고용지표가 예상보다 더 뜨겁게 나오자 투자자들이 일제히 주식을 던진.. 한국경제 2025-01-11 07:26:15\n",
      "뜨거운 美고용에 증시 ‘찬물’…10년물 금리 4.76%[월스트리트in] https://finance.naver.com/news/news_read.naver?article_id=0005922824&office_id=018&mode=mainnews&type=&date=2025-01-11&page=2 뉴욕증시 3대지수가 일제히 하락 마감했다. 예상보다 강한 고용지표에 연방준비제도의 금리인하에 속도조절이 불가피하다는 관측이 강화됐다. .. 이데일리 2025-01-11 07:20:14\n",
      "SK하이닉스·두산밥캣·에이치브이엠[하나證 주간추천주] https://finance.naver.com/news/news_read.naver?article_id=0005922821&office_id=018&mode=mainnews&type=&date=2025-01-11&page=2 △SK하이닉스(000660) -3분기 매출액은 전년 동기 대비 94% 증가한 17조 6000억원, 영업이익은 흑자전환한 7조원 기록. .. 이데일리 2025-01-11 07:01:14\n",
      "\"'이재명 테마주' 아냐?\" 화들짝…두 달 새 주가 폭등한 종목 [윤현주의 主食이 주식] https://finance.naver.com/news/news_read.naver?article_id=0005080829&office_id=015&mode=mainnews&type=&date=2025-01-11&page=3 정치 테마주도 아닌데, 회사 이름이 비슷해서 주가가 폭등했나. ‘이재명 테마주’로 불리는 오리엔트정공이 두 달여(2024년 11월 6일.. 한국경제 2025-01-11 07:01:12\n",
      "올해도 변동장…수익률 방어 전략은 단일종목·중소형株 ETF https://finance.naver.com/news/news_read.naver?article_id=0002912738&office_id=119&mode=mainnews&type=&date=2025-01-11&page=3 작년에 이어 올해도 주식시장이 큰 변동성을 나타낼 것으로 보이는 가운데 상장지수펀드(ETF) 투자 전략에도 변화가 필요하다는 관측이 나.. 데일리안 2025-01-11 07:00:12\n",
      "KB·한투운용 ETF 수장 ‘공백’…3위 판도 ‘예측불가’ https://finance.naver.com/news/news_read.naver?article_id=0002912737&office_id=119&mode=mainnews&type=&date=2025-01-11&page=3 국내 상장지수펀드(ETF) 점유율 3위 자리를 두고 경쟁을 벌이는 KB자산운용과 한국투자신탁운용이 연초부터 ETF 수장 ‘공백’ 위기에.. 데일리안 2025-01-11 07:00:10\n",
      "글로벌 경제 불확실성 속, 빛나는 한국 증시의 반등 가능성 [박문환 시선집중] https://finance.naver.com/news/news_read.naver?article_id=0001194834&office_id=215&mode=mainnews&type=&date=2025-01-11&page=3 최근 외환 위기설이 제기되며 글로벌 경제와 한국 증시에 대한 우려가 커지고 있다. 그러나 전문가들은 이를 지나치게 걱정하기보다, 현재의.. 한국경제TV 2025-01-11 07:00:00\n",
      "'12월 수익률 30%' 투자왕들, 계엄사태 속 이 상품 담았다 https://finance.naver.com/news/news_read.naver?article_id=0005139708&office_id=008&mode=mainnews&type=&date=2025-01-11&page=3 예상하지 못한 비상계엄 선포와 탄핵 사태로 지난 12월 국내 주식 시장은 어마어마한 후폭풍에 시달렸다. 환율 폭등과 외국인 투자자 탈출.. 머니투데이 2025-01-11 07:00:00\n",
      "\"더 이상 사과는 없다\" 저커버그는 왜 8년 새 달라졌을까 https://finance.naver.com/news/news_read.naver?article_id=0005531086&office_id=277&mode=mainnews&type=&date=2025-01-11&page=3 우리는 가짜정보를 심각하게 받아들입니다. 사람들이 정확한 정보를 원한다는 걸 알고 있고, 이에 대한 책임을 심각하게 받아들이고 있습니다.. 아시아경제 2025-01-11 07:00:00\n",
      "젠슨 황·머스크도 푹 빠졌다…\"휴머노이드 로봇 폭발적 성장\"[대만칩통신] https://finance.naver.com/news/news_read.naver?article_id=0005531084&office_id=277&mode=mainnews&type=&date=2025-01-11&page=3 휴머노이드 로봇이 글로벌 투자자들 최대 화두로 떠올랐다. 젠슨 황 엔비디아 최고경영자(CEO), 일론 머스크 테슬라 CEO, 웨이저자 .. 아시아경제 2025-01-11 07:00:00\n",
      "'최강 추위'에 관련주 '후끈'… 한파 수혜주 뭐가 있나 https://finance.naver.com/news/news_read.naver?article_id=0001051229&office_id=417&mode=mainnews&type=&date=2025-01-11&page=3 영하 18도 안팎을 기록하는 '최강 한파'가 이어지며 한파 관련주가 주목받고 있다. 11일 한국거래소에 따르면 지난 10일 난방 관련주.. 머니S 2025-01-11 06:38:00\n",
      "애플, 아이폰 16 판매 부진에도 여전히 긍정적 https://finance.naver.com/news/news_read.naver?article_id=0005922815&office_id=018&mode=mainnews&type=&date=2025-01-11&page=3 아이폰 16 판매량에 대한 컨센서스가 하향 조정되고 있으나 시장에서는 여전히 중장기적으로 애플(Apple)에 대해 긍정적인 시각을 유지.. 이데일리 2025-01-11 06:31:09\n",
      "\"동네 물 싹쓸이\" 테슬라, 리튬공장 위한 용수 찾기에 총력 https://finance.naver.com/news/news_read.naver?article_id=0005531072&office_id=277&mode=mainnews&type=&date=2025-01-11&page=3 세계 최대 전기차 회사인 테슬라가 미국 텍사스 리튬 정제공장 가동을 앞두고 용수 확보에 총력을 기울이고 있다. 공장을 가동하기 위해서는.. 아시아경제 2025-01-11 06:30:00\n",
      " 트럼프가 싫어하는 대마 재배시설 NO, 데이터센터 OK… 미국 리츠 고르는 법[美드캡 탐구] https://finance.naver.com/news/news_read.naver?article_id=0001046543&office_id=366&mode=mainnews&type=&date=2025-01-11&page=3 금리 인하 기대 줄어 리츠주 조정 받았지만 투자 자산 성격에 따라 리츠주 차별화 움직임 국내 투자자가 보유한 미국 주식 규모가 150조.. 조선비즈 2025-01-11 06:02:11\n",
      "“이거 하라고 유치했는데”… 주가조작 의혹까지 받은 한 외국계 증권사 https://finance.naver.com/news/news_read.naver?article_id=0001046533&office_id=366&mode=mainnews&type=&date=2025-01-11&page=3 한국IMC증권, 거래량 부진한 종목에 유동성 공급하는 ‘시장조성자’ 역할 유가증권시장에 상장된 제약회사 일성아이에스는 새해 들어 거래량.. 조선비즈 2025-01-11 06:01:16\n",
      "LG CNS, 빠른 신고서 약됐다?…피어그룹 주가 날고 맥쿼리PE 엑시트 ‘기대’[투자360] https://finance.naver.com/news/news_read.naver?article_id=0002414377&office_id=016&mode=mainnews&type=&date=2025-01-11&page=3 삼성SDS 제외 현대오토·NTT 상승세 할인 매력 부각, 1조 ‘빅딜’ 주관사단 탄탄 구주매출로 최대 6000억 회수, 추가 수익도 가.. 헤럴드경제 2025-01-11 06:00:15\n",
      "\"이 주식, 일단 담아\" 돌아온 외인 '폭풍 매수'…뭐 샀나 보니 https://finance.naver.com/news/news_read.naver?article_id=0005139701&office_id=008&mode=mainnews&type=&date=2025-01-11&page=3 지난해 국내 주식시장에서 등을 돌리며 지수 하락을 주도했던 외국인이 돌아왔다. 올해 들어서는 매수세를 보이고 있는 것인데 반도체, 방산.. 머니투데이 2025-01-11 06:00:00\n",
      "\"엔비디아 지고 '이 주식' 뜬다\"…주목할 美주식은?[부꾸미] https://finance.naver.com/news/news_read.naver?article_id=0005139693&office_id=008&mode=mainnews&type=&date=2025-01-11&page=3 2025년에도 인공지능(AI)을 중심으로 한 미국 증시의 강세가 이어질 것이란 전망이 나온다. 지속된 주가 상승으로 밸류에이션(실적 대.. 머니투데이 2025-01-11 03:30:00\n",
      "뉴욕증시, 예상보다 뜨거운 고용·금리동결 가능성↑…급락 출발 https://finance.naver.com/news/news_read.naver?article_id=0015153778&office_id=001&mode=mainnews&type=&date=2025-01-11&page=3 김 현 연합인포맥스 통신원 = 뉴욕증시는 시장 예상을 크게 웃돈 주요 고용지표가 연방준비제도(Fed·연준)의 금리 인하 행보 중단 가능.. 연합뉴스 2025-01-11 01:08:36\n",
      " 어피니티, 중국 자본 루머 부인…\"BYD 협력 사실무근\"[주간사모펀드] https://finance.naver.com/news/news_read.naver?article_id=0000355665&office_id=629&mode=mainnews&type=&date=2025-01-11&page=3 한앤코, 1500억대 SK플라즈마 딜 클로징 제이앤PE, 현대힘스 매각하나 국내 사모펀드(PEF) 운용사 어피티니에쿼티파트너스(어피니티.. 더팩트 2025-01-11 00:01:33\n"
     ]
    }
   ],
   "source": [
    "#4단계\n",
    "#엑셀저장\n",
    "\n",
    "import requests\n",
    "from bs4 import BeautifulSoup\n",
    "import pandas as pd\n",
    "\n",
    "data=[]\n",
    "\n",
    "for i in range(1,1000):\n",
    "    response =requests.get(f\"https://finance.naver.com/news/mainnews.naver?&page={i}\")\n",
    "    html=response.text\n",
    "    soup=BeautifulSoup(html,'html.parser')\n",
    "\n",
    "    articles=soup.select(\".block1\")\n",
    "    for article in articles:\n",
    "        title=article.select_one(\".articleSubject>a\").text\n",
    "        link='https://finance.naver.com'+article.select_one(\".articleSubject>a\").attrs['href']\n",
    "        content=article.select_one(\".articleSummary\").contents[0].strip()\n",
    "        press=article.select_one(\".press\").text.strip()\n",
    "        date=article.select_one(\".wdate\").text\n",
    "        print(title,link,content,press,date)\n",
    "        data.append([title,link,content,press,date])\n",
    "\n",
    "    #마지막 페이지 체크\n",
    "    if soup.select_one(\".pgRR\") == None:\n",
    "        break"
   ]
  },
  {
   "cell_type": "code",
   "execution_count": 37,
   "metadata": {},
   "outputs": [
    {
     "data": {
      "text/html": [
       "<div>\n",
       "<style scoped>\n",
       "    .dataframe tbody tr th:only-of-type {\n",
       "        vertical-align: middle;\n",
       "    }\n",
       "\n",
       "    .dataframe tbody tr th {\n",
       "        vertical-align: top;\n",
       "    }\n",
       "\n",
       "    .dataframe thead th {\n",
       "        text-align: right;\n",
       "    }\n",
       "</style>\n",
       "<table border=\"1\" class=\"dataframe\">\n",
       "  <thead>\n",
       "    <tr style=\"text-align: right;\">\n",
       "      <th></th>\n",
       "      <th>제목</th>\n",
       "      <th>링크</th>\n",
       "      <th>내용</th>\n",
       "      <th>언론사</th>\n",
       "      <th>날짜</th>\n",
       "    </tr>\n",
       "  </thead>\n",
       "  <tbody>\n",
       "    <tr>\n",
       "      <th>0</th>\n",
       "      <td>블랙박스에도 없는 '충돌 전 4분' 기록…참사 규명 장기화 우려</td>\n",
       "      <td>https://finance.naver.com/news/news_read.naver...</td>\n",
       "      <td>미국으로 보내 분석 중인 제주항공 참사 여객기 블랙박스에 충돌 전 마지막 4분간의 ...</td>\n",
       "      <td>MBN</td>\n",
       "      <td>2025-01-11 20:09:08</td>\n",
       "    </tr>\n",
       "    <tr>\n",
       "      <th>1</th>\n",
       "      <td>이지스운용 \"올 상업용 부동산 패러다임 전환 맞을 것\"[fn마켓워치]</td>\n",
       "      <td>https://finance.naver.com/news/news_read.naver...</td>\n",
       "      <td>올해 국내 상업용 부동산 시장이 투자 구조와 주기 등 패러다임 전환을 맞을 것이라는...</td>\n",
       "      <td>파이낸셜뉴스</td>\n",
       "      <td>2025-01-11 19:48:11</td>\n",
       "    </tr>\n",
       "    <tr>\n",
       "      <th>2</th>\n",
       "      <td>\"역시 금이 최고야\"…'30% 껑충' 금 ETF 샀더니</td>\n",
       "      <td>https://finance.naver.com/news/news_read.naver...</td>\n",
       "      <td>글로벌 경제 불확실성이 커지면서 지난해에 이어 올해도 급값이 상승세를 이어갈 것이란...</td>\n",
       "      <td>한국경제</td>\n",
       "      <td>2025-01-11 19:25:11</td>\n",
       "    </tr>\n",
       "    <tr>\n",
       "      <th>3</th>\n",
       "      <td>'증권업계 대부' 강성진 전 증권업협회장 별세…향년 98세</td>\n",
       "      <td>https://finance.naver.com/news/news_read.naver...</td>\n",
       "      <td>'증권업계 대부'로 불린 강성진 전 한국증권업협회장이 11일 숙환으로 별세했다. 향...</td>\n",
       "      <td>연합뉴스</td>\n",
       "      <td>2025-01-11 17:59:26</td>\n",
       "    </tr>\n",
       "    <tr>\n",
       "      <th>4</th>\n",
       "      <td>지난해 국내 증시 불안 속 대형 증권사는 웃었다</td>\n",
       "      <td>https://finance.naver.com/news/news_read.naver...</td>\n",
       "      <td>지난해 하반기 국내 증시의 부진에도 불구하고 4분기 대형 증권사들은 대체로 호실적을...</td>\n",
       "      <td>이코노미스트</td>\n",
       "      <td>2025-01-11 17:41:07</td>\n",
       "    </tr>\n",
       "  </tbody>\n",
       "</table>\n",
       "</div>"
      ],
      "text/plain": [
       "                                       제목  \\\n",
       "0     블랙박스에도 없는 '충돌 전 4분' 기록…참사 규명 장기화 우려   \n",
       "1  이지스운용 \"올 상업용 부동산 패러다임 전환 맞을 것\"[fn마켓워치]   \n",
       "2          \"역시 금이 최고야\"…'30% 껑충' 금 ETF 샀더니   \n",
       "3        '증권업계 대부' 강성진 전 증권업협회장 별세…향년 98세   \n",
       "4              지난해 국내 증시 불안 속 대형 증권사는 웃었다   \n",
       "\n",
       "                                                  링크  \\\n",
       "0  https://finance.naver.com/news/news_read.naver...   \n",
       "1  https://finance.naver.com/news/news_read.naver...   \n",
       "2  https://finance.naver.com/news/news_read.naver...   \n",
       "3  https://finance.naver.com/news/news_read.naver...   \n",
       "4  https://finance.naver.com/news/news_read.naver...   \n",
       "\n",
       "                                                  내용     언론사  \\\n",
       "0  미국으로 보내 분석 중인 제주항공 참사 여객기 블랙박스에 충돌 전 마지막 4분간의 ...     MBN   \n",
       "1  올해 국내 상업용 부동산 시장이 투자 구조와 주기 등 패러다임 전환을 맞을 것이라는...  파이낸셜뉴스   \n",
       "2  글로벌 경제 불확실성이 커지면서 지난해에 이어 올해도 급값이 상승세를 이어갈 것이란...    한국경제   \n",
       "3  '증권업계 대부'로 불린 강성진 전 한국증권업협회장이 11일 숙환으로 별세했다. 향...    연합뉴스   \n",
       "4  지난해 하반기 국내 증시의 부진에도 불구하고 4분기 대형 증권사들은 대체로 호실적을...  이코노미스트   \n",
       "\n",
       "                    날짜  \n",
       "0  2025-01-11 20:09:08  \n",
       "1  2025-01-11 19:48:11  \n",
       "2  2025-01-11 19:25:11  \n",
       "3  2025-01-11 17:59:26  \n",
       "4  2025-01-11 17:41:07  "
      ]
     },
     "execution_count": 37,
     "metadata": {},
     "output_type": "execute_result"
    }
   ],
   "source": [
    "df=pd.DataFrame(data,columns=['제목','링크','내용','언론사','날짜'])\n",
    "df.head()"
   ]
  },
  {
   "cell_type": "code",
   "execution_count": 39,
   "metadata": {},
   "outputs": [],
   "source": [
    "#엑셀 저장\n",
    "df.to_excel(\"naver_finance_crawling.xlsx\")"
   ]
  },
  {
   "cell_type": "code",
   "execution_count": null,
   "metadata": {},
   "outputs": [],
   "source": []
  }
 ],
 "metadata": {
  "kernelspec": {
   "display_name": "base",
   "language": "python",
   "name": "python3"
  },
  "language_info": {
   "codemirror_mode": {
    "name": "ipython",
    "version": 3
   },
   "file_extension": ".py",
   "mimetype": "text/x-python",
   "name": "python",
   "nbconvert_exporter": "python",
   "pygments_lexer": "ipython3",
   "version": "3.12.4"
  }
 },
 "nbformat": 4,
 "nbformat_minor": 2
}
