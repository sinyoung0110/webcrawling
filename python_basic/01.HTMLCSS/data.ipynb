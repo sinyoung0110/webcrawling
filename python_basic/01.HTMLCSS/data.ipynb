{
 "cells": [
  {
   "cell_type": "code",
   "execution_count": null,
   "metadata": {
    "vscode": {
     "languageId": "plaintext"
    }
   },
   "outputs": [],
   "source": [
    "import requests\n",
    "import bs4 import BeautifulSoup\n",
    "\n",
    "response =requests.get(\"https://www.pa.go.kr/online_contents/archive/president_speechIndex.jsp?activePresident=%EB%AC%B8%EC%9E%AC%EC%9D%B8\")\n",
    "html=response.txt\n",
    "soup=BeautifulSoup(html,'html.parser')\n",
    "items=soup.select(\".product\")\n",
    "for item in items:\n",
    "\tcategory=item.select_one(\".product-category\").text\n",
    "\tname= item.select_one(\".produt-name\").text\n",
    "\tlink=item.select_one(\".product-name>a\").attrs['href']\n",
    "\t#price=item.select_one(\".product-price\").text.strip().replace(',','').replace('원','')\n",
    "\tprice=item.select_one(\".product-price\").text.split('원')[0].replace(',','')\n",
    "\tprint(category,name,link,price)\n"
   ]
  }
 ],
 "metadata": {
  "language_info": {
   "name": "python"
  }
 },
 "nbformat": 4,
 "nbformat_minor": 2
}
