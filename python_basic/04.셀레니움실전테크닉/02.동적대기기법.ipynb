{
 "cells": [
  {
   "cell_type": "code",
   "execution_count": 1,
   "metadata": {},
   "outputs": [],
   "source": [
    "#셀레니움 기본 템플릿\n",
    "from selenium import webdriver\n",
    "from selenium.webdriver.common.by import By\n",
    "from selenium.webdriver.common.keys import Keys\n",
    "\n",
    "#크롬 드라이버 생성\n",
    "driver=webdriver.Chrome()\n",
    "\n",
    "#페이지 이동\n",
    "driver.get(\"https://www.naver.com\")\n"
   ]
  },
  {
   "cell_type": "code",
   "execution_count": 2,
   "metadata": {},
   "outputs": [],
   "source": [
    "#암시적 대기\n",
    "driver.implicitly_wait(10)"
   ]
  },
  {
   "cell_type": "code",
   "execution_count": 3,
   "metadata": {},
   "outputs": [
    {
     "ename": "NoSuchElementException",
     "evalue": "Message: no such element: Unable to locate element: {\"method\":\"css selector\",\"selector\":\"#query1\"}\n  (Session info: chrome=131.0.6778.265); For documentation on this error, please visit: https://www.selenium.dev/documentation/webdriver/troubleshooting/errors#no-such-element-exception\nStacktrace:\n0   chromedriver                        0x0000000104a76138 cxxbridge1$str$ptr + 3653888\n1   chromedriver                        0x0000000104a6e988 cxxbridge1$str$ptr + 3623248\n2   chromedriver                        0x00000001044d4968 cxxbridge1$string$len + 89228\n3   chromedriver                        0x0000000104518d4c cxxbridge1$string$len + 368752\n4   chromedriver                        0x00000001045524f0 cxxbridge1$string$len + 604180\n5   chromedriver                        0x000000010450d564 cxxbridge1$string$len + 321672\n6   chromedriver                        0x000000010450e1b4 cxxbridge1$string$len + 324824\n7   chromedriver                        0x0000000104a40fc0 cxxbridge1$str$ptr + 3436424\n8   chromedriver                        0x0000000104a442dc cxxbridge1$str$ptr + 3449508\n9   chromedriver                        0x0000000104a27e60 cxxbridge1$str$ptr + 3333672\n10  chromedriver                        0x0000000104a44b9c cxxbridge1$str$ptr + 3451748\n11  chromedriver                        0x0000000104a19678 cxxbridge1$str$ptr + 3274304\n12  chromedriver                        0x0000000104a5f2b4 cxxbridge1$str$ptr + 3560060\n13  chromedriver                        0x0000000104a5f430 cxxbridge1$str$ptr + 3560440\n14  chromedriver                        0x0000000104a6e5fc cxxbridge1$str$ptr + 3622340\n15  libsystem_pthread.dylib             0x000000019fe86f94 _pthread_start + 136\n16  libsystem_pthread.dylib             0x000000019fe81d34 thread_start + 8\n",
     "output_type": "error",
     "traceback": [
      "\u001b[0;31m---------------------------------------------------------------------------\u001b[0m",
      "\u001b[0;31mNoSuchElementException\u001b[0m                    Traceback (most recent call last)",
      "Cell \u001b[0;32mIn[3], line 1\u001b[0m\n\u001b[0;32m----> 1\u001b[0m driver\u001b[38;5;241m.\u001b[39mfind_element(By\u001b[38;5;241m.\u001b[39mCSS_SELECTOR,\u001b[38;5;124m\"\u001b[39m\u001b[38;5;124m#query1\u001b[39m\u001b[38;5;124m\"\u001b[39m)\n",
      "File \u001b[0;32m/opt/anaconda3/lib/python3.12/site-packages/selenium/webdriver/remote/webdriver.py:748\u001b[0m, in \u001b[0;36mWebDriver.find_element\u001b[0;34m(self, by, value)\u001b[0m\n\u001b[1;32m    745\u001b[0m     by \u001b[38;5;241m=\u001b[39m By\u001b[38;5;241m.\u001b[39mCSS_SELECTOR\n\u001b[1;32m    746\u001b[0m     value \u001b[38;5;241m=\u001b[39m \u001b[38;5;124mf\u001b[39m\u001b[38;5;124m'\u001b[39m\u001b[38;5;124m[name=\u001b[39m\u001b[38;5;124m\"\u001b[39m\u001b[38;5;132;01m{\u001b[39;00mvalue\u001b[38;5;132;01m}\u001b[39;00m\u001b[38;5;124m\"\u001b[39m\u001b[38;5;124m]\u001b[39m\u001b[38;5;124m'\u001b[39m\n\u001b[0;32m--> 748\u001b[0m \u001b[38;5;28;01mreturn\u001b[39;00m \u001b[38;5;28mself\u001b[39m\u001b[38;5;241m.\u001b[39mexecute(Command\u001b[38;5;241m.\u001b[39mFIND_ELEMENT, {\u001b[38;5;124m\"\u001b[39m\u001b[38;5;124musing\u001b[39m\u001b[38;5;124m\"\u001b[39m: by, \u001b[38;5;124m\"\u001b[39m\u001b[38;5;124mvalue\u001b[39m\u001b[38;5;124m\"\u001b[39m: value})[\u001b[38;5;124m\"\u001b[39m\u001b[38;5;124mvalue\u001b[39m\u001b[38;5;124m\"\u001b[39m]\n",
      "File \u001b[0;32m/opt/anaconda3/lib/python3.12/site-packages/selenium/webdriver/remote/webdriver.py:354\u001b[0m, in \u001b[0;36mWebDriver.execute\u001b[0;34m(self, driver_command, params)\u001b[0m\n\u001b[1;32m    352\u001b[0m response \u001b[38;5;241m=\u001b[39m \u001b[38;5;28mself\u001b[39m\u001b[38;5;241m.\u001b[39mcommand_executor\u001b[38;5;241m.\u001b[39mexecute(driver_command, params)\n\u001b[1;32m    353\u001b[0m \u001b[38;5;28;01mif\u001b[39;00m response:\n\u001b[0;32m--> 354\u001b[0m     \u001b[38;5;28mself\u001b[39m\u001b[38;5;241m.\u001b[39merror_handler\u001b[38;5;241m.\u001b[39mcheck_response(response)\n\u001b[1;32m    355\u001b[0m     response[\u001b[38;5;124m\"\u001b[39m\u001b[38;5;124mvalue\u001b[39m\u001b[38;5;124m\"\u001b[39m] \u001b[38;5;241m=\u001b[39m \u001b[38;5;28mself\u001b[39m\u001b[38;5;241m.\u001b[39m_unwrap_value(response\u001b[38;5;241m.\u001b[39mget(\u001b[38;5;124m\"\u001b[39m\u001b[38;5;124mvalue\u001b[39m\u001b[38;5;124m\"\u001b[39m, \u001b[38;5;28;01mNone\u001b[39;00m))\n\u001b[1;32m    356\u001b[0m     \u001b[38;5;28;01mreturn\u001b[39;00m response\n",
      "File \u001b[0;32m/opt/anaconda3/lib/python3.12/site-packages/selenium/webdriver/remote/errorhandler.py:229\u001b[0m, in \u001b[0;36mErrorHandler.check_response\u001b[0;34m(self, response)\u001b[0m\n\u001b[1;32m    227\u001b[0m         alert_text \u001b[38;5;241m=\u001b[39m value[\u001b[38;5;124m\"\u001b[39m\u001b[38;5;124malert\u001b[39m\u001b[38;5;124m\"\u001b[39m]\u001b[38;5;241m.\u001b[39mget(\u001b[38;5;124m\"\u001b[39m\u001b[38;5;124mtext\u001b[39m\u001b[38;5;124m\"\u001b[39m)\n\u001b[1;32m    228\u001b[0m     \u001b[38;5;28;01mraise\u001b[39;00m exception_class(message, screen, stacktrace, alert_text)  \u001b[38;5;66;03m# type: ignore[call-arg]  # mypy is not smart enough here\u001b[39;00m\n\u001b[0;32m--> 229\u001b[0m \u001b[38;5;28;01mraise\u001b[39;00m exception_class(message, screen, stacktrace)\n",
      "\u001b[0;31mNoSuchElementException\u001b[0m: Message: no such element: Unable to locate element: {\"method\":\"css selector\",\"selector\":\"#query1\"}\n  (Session info: chrome=131.0.6778.265); For documentation on this error, please visit: https://www.selenium.dev/documentation/webdriver/troubleshooting/errors#no-such-element-exception\nStacktrace:\n0   chromedriver                        0x0000000104a76138 cxxbridge1$str$ptr + 3653888\n1   chromedriver                        0x0000000104a6e988 cxxbridge1$str$ptr + 3623248\n2   chromedriver                        0x00000001044d4968 cxxbridge1$string$len + 89228\n3   chromedriver                        0x0000000104518d4c cxxbridge1$string$len + 368752\n4   chromedriver                        0x00000001045524f0 cxxbridge1$string$len + 604180\n5   chromedriver                        0x000000010450d564 cxxbridge1$string$len + 321672\n6   chromedriver                        0x000000010450e1b4 cxxbridge1$string$len + 324824\n7   chromedriver                        0x0000000104a40fc0 cxxbridge1$str$ptr + 3436424\n8   chromedriver                        0x0000000104a442dc cxxbridge1$str$ptr + 3449508\n9   chromedriver                        0x0000000104a27e60 cxxbridge1$str$ptr + 3333672\n10  chromedriver                        0x0000000104a44b9c cxxbridge1$str$ptr + 3451748\n11  chromedriver                        0x0000000104a19678 cxxbridge1$str$ptr + 3274304\n12  chromedriver                        0x0000000104a5f2b4 cxxbridge1$str$ptr + 3560060\n13  chromedriver                        0x0000000104a5f430 cxxbridge1$str$ptr + 3560440\n14  chromedriver                        0x0000000104a6e5fc cxxbridge1$str$ptr + 3622340\n15  libsystem_pthread.dylib             0x000000019fe86f94 _pthread_start + 136\n16  libsystem_pthread.dylib             0x000000019fe81d34 thread_start + 8\n"
     ]
    }
   ],
   "source": [
    "driver.find_element(By.CSS_SELECTOR,\"#query1\")"
   ]
  },
  {
   "cell_type": "code",
   "execution_count": 4,
   "metadata": {},
   "outputs": [
    {
     "ename": "TimeoutException",
     "evalue": "Message: \nStacktrace:\n0   chromedriver                        0x0000000104a76138 cxxbridge1$str$ptr + 3653888\n1   chromedriver                        0x0000000104a6e988 cxxbridge1$str$ptr + 3623248\n2   chromedriver                        0x00000001044d4968 cxxbridge1$string$len + 89228\n3   chromedriver                        0x0000000104518d4c cxxbridge1$string$len + 368752\n4   chromedriver                        0x00000001045524f0 cxxbridge1$string$len + 604180\n5   chromedriver                        0x000000010450d564 cxxbridge1$string$len + 321672\n6   chromedriver                        0x000000010450e1b4 cxxbridge1$string$len + 324824\n7   chromedriver                        0x0000000104a40fc0 cxxbridge1$str$ptr + 3436424\n8   chromedriver                        0x0000000104a442dc cxxbridge1$str$ptr + 3449508\n9   chromedriver                        0x0000000104a27e60 cxxbridge1$str$ptr + 3333672\n10  chromedriver                        0x0000000104a44b9c cxxbridge1$str$ptr + 3451748\n11  chromedriver                        0x0000000104a19678 cxxbridge1$str$ptr + 3274304\n12  chromedriver                        0x0000000104a5f2b4 cxxbridge1$str$ptr + 3560060\n13  chromedriver                        0x0000000104a5f430 cxxbridge1$str$ptr + 3560440\n14  chromedriver                        0x0000000104a6e5fc cxxbridge1$str$ptr + 3622340\n15  libsystem_pthread.dylib             0x000000019fe86f94 _pthread_start + 136\n16  libsystem_pthread.dylib             0x000000019fe81d34 thread_start + 8\n",
     "output_type": "error",
     "traceback": [
      "\u001b[0;31m---------------------------------------------------------------------------\u001b[0m",
      "\u001b[0;31mTimeoutException\u001b[0m                          Traceback (most recent call last)",
      "Cell \u001b[0;32mIn[4], line 5\u001b[0m\n\u001b[1;32m      2\u001b[0m \u001b[38;5;28;01mfrom\u001b[39;00m \u001b[38;5;21;01mselenium\u001b[39;00m\u001b[38;5;21;01m.\u001b[39;00m\u001b[38;5;21;01mwebdriver\u001b[39;00m\u001b[38;5;21;01m.\u001b[39;00m\u001b[38;5;21;01msupport\u001b[39;00m \u001b[38;5;28;01mimport\u001b[39;00m expected_conditions \u001b[38;5;28;01mas\u001b[39;00m EC\n\u001b[1;32m      4\u001b[0m \u001b[38;5;66;03m#명시적 대기\u001b[39;00m\n\u001b[0;32m----> 5\u001b[0m element\u001b[38;5;241m=\u001b[39mWebDriverWait(driver,\u001b[38;5;241m5\u001b[39m)\u001b[38;5;241m.\u001b[39muntil(\n\u001b[1;32m      6\u001b[0m     EC\u001b[38;5;241m.\u001b[39mpresence_of_element_located((By\u001b[38;5;241m.\u001b[39mCSS_SELECTOR,\u001b[38;5;124m\"\u001b[39m\u001b[38;5;124m#query1\u001b[39m\u001b[38;5;124m\"\u001b[39m))\n\u001b[1;32m      7\u001b[0m )\n\u001b[1;32m      8\u001b[0m element\n",
      "File \u001b[0;32m/opt/anaconda3/lib/python3.12/site-packages/selenium/webdriver/support/wait.py:105\u001b[0m, in \u001b[0;36mWebDriverWait.until\u001b[0;34m(self, method, message)\u001b[0m\n\u001b[1;32m    103\u001b[0m     \u001b[38;5;28;01mif\u001b[39;00m time\u001b[38;5;241m.\u001b[39mmonotonic() \u001b[38;5;241m>\u001b[39m end_time:\n\u001b[1;32m    104\u001b[0m         \u001b[38;5;28;01mbreak\u001b[39;00m\n\u001b[0;32m--> 105\u001b[0m \u001b[38;5;28;01mraise\u001b[39;00m TimeoutException(message, screen, stacktrace)\n",
      "\u001b[0;31mTimeoutException\u001b[0m: Message: \nStacktrace:\n0   chromedriver                        0x0000000104a76138 cxxbridge1$str$ptr + 3653888\n1   chromedriver                        0x0000000104a6e988 cxxbridge1$str$ptr + 3623248\n2   chromedriver                        0x00000001044d4968 cxxbridge1$string$len + 89228\n3   chromedriver                        0x0000000104518d4c cxxbridge1$string$len + 368752\n4   chromedriver                        0x00000001045524f0 cxxbridge1$string$len + 604180\n5   chromedriver                        0x000000010450d564 cxxbridge1$string$len + 321672\n6   chromedriver                        0x000000010450e1b4 cxxbridge1$string$len + 324824\n7   chromedriver                        0x0000000104a40fc0 cxxbridge1$str$ptr + 3436424\n8   chromedriver                        0x0000000104a442dc cxxbridge1$str$ptr + 3449508\n9   chromedriver                        0x0000000104a27e60 cxxbridge1$str$ptr + 3333672\n10  chromedriver                        0x0000000104a44b9c cxxbridge1$str$ptr + 3451748\n11  chromedriver                        0x0000000104a19678 cxxbridge1$str$ptr + 3274304\n12  chromedriver                        0x0000000104a5f2b4 cxxbridge1$str$ptr + 3560060\n13  chromedriver                        0x0000000104a5f430 cxxbridge1$str$ptr + 3560440\n14  chromedriver                        0x0000000104a6e5fc cxxbridge1$str$ptr + 3622340\n15  libsystem_pthread.dylib             0x000000019fe86f94 _pthread_start + 136\n16  libsystem_pthread.dylib             0x000000019fe81d34 thread_start + 8\n"
     ]
    }
   ],
   "source": [
    "from selenium.webdriver.support.ui import WebDriverWait\n",
    "from selenium.webdriver.support import expected_conditions as EC\n",
    "\n",
    "#명시적 대기\n",
    "element=WebDriverWait(driver,5).until(\n",
    "    EC.presence_of_element_located((By.CSS_SELECTOR,\"#query1\"))\n",
    ")\n",
    "element"
   ]
  },
  {
   "cell_type": "markdown",
   "metadata": {},
   "source": []
  }
 ],
 "metadata": {
  "kernelspec": {
   "display_name": "base",
   "language": "python",
   "name": "python3"
  },
  "language_info": {
   "codemirror_mode": {
    "name": "ipython",
    "version": 3
   },
   "file_extension": ".py",
   "mimetype": "text/x-python",
   "name": "python",
   "nbconvert_exporter": "python",
   "pygments_lexer": "ipython3",
   "version": "3.12.4"
  }
 },
 "nbformat": 4,
 "nbformat_minor": 2
}
